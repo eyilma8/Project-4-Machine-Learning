{
 "cells": [
  {
   "cell_type": "code",
   "execution_count": 2,
   "id": "9db178ad",
   "metadata": {},
   "outputs": [],
   "source": [
    "import matplotlib.pyplot as plt\n",
    "import pandas as pd\n",
    "from pathlib import Path\n",
    "pi_flow2023 = Path(\"pi_1995_flow.csv\")\n",
    "pi_flow_dec172023 = pd.read_csv(pi_flow2023)"
   ]
  },
  {
   "cell_type": "code",
   "execution_count": 3,
   "id": "ad2f7871",
   "metadata": {},
   "outputs": [
    {
     "data": {
      "text/html": [
       "<div>\n",
       "<style scoped>\n",
       "    .dataframe tbody tr th:only-of-type {\n",
       "        vertical-align: middle;\n",
       "    }\n",
       "\n",
       "    .dataframe tbody tr th {\n",
       "        vertical-align: top;\n",
       "    }\n",
       "\n",
       "    .dataframe thead th {\n",
       "        text-align: right;\n",
       "    }\n",
       "</style>\n",
       "<table border=\"1\" class=\"dataframe\">\n",
       "  <thead>\n",
       "    <tr style=\"text-align: right;\">\n",
       "      <th></th>\n",
       "      <th>TagName</th>\n",
       "      <th>DateTime</th>\n",
       "      <th>Value</th>\n",
       "      <th>Unit</th>\n",
       "    </tr>\n",
       "  </thead>\n",
       "  <tbody>\n",
       "    <tr>\n",
       "      <th>0</th>\n",
       "      <td>PI1995_Level.PV</td>\n",
       "      <td>12/16/2023 11:09</td>\n",
       "      <td>3.96449995</td>\n",
       "      <td>ft</td>\n",
       "    </tr>\n",
       "    <tr>\n",
       "      <th>1</th>\n",
       "      <td>PI1995_Level.PV</td>\n",
       "      <td>12/16/2023 11:09</td>\n",
       "      <td>3.967499971</td>\n",
       "      <td>ft</td>\n",
       "    </tr>\n",
       "    <tr>\n",
       "      <th>2</th>\n",
       "      <td>PI1995_Level.PV</td>\n",
       "      <td>12/16/2023 11:09</td>\n",
       "      <td>3.960000038</td>\n",
       "      <td>ft</td>\n",
       "    </tr>\n",
       "    <tr>\n",
       "      <th>3</th>\n",
       "      <td>PI1995_Level.PV</td>\n",
       "      <td>12/16/2023 11:09</td>\n",
       "      <td>3.969000101</td>\n",
       "      <td>ft</td>\n",
       "    </tr>\n",
       "    <tr>\n",
       "      <th>4</th>\n",
       "      <td>PI1995_Level.PV</td>\n",
       "      <td>12/16/2023 11:10</td>\n",
       "      <td>3.96449995</td>\n",
       "      <td>ft</td>\n",
       "    </tr>\n",
       "  </tbody>\n",
       "</table>\n",
       "</div>"
      ],
      "text/plain": [
       "           TagName          DateTime        Value Unit\n",
       "0  PI1995_Level.PV  12/16/2023 11:09   3.96449995   ft\n",
       "1  PI1995_Level.PV  12/16/2023 11:09  3.967499971   ft\n",
       "2  PI1995_Level.PV  12/16/2023 11:09  3.960000038   ft\n",
       "3  PI1995_Level.PV  12/16/2023 11:09  3.969000101   ft\n",
       "4  PI1995_Level.PV  12/16/2023 11:10   3.96449995   ft"
      ]
     },
     "execution_count": 3,
     "metadata": {},
     "output_type": "execute_result"
    }
   ],
   "source": [
    "pi_flow_dec172023.head()"
   ]
  },
  {
   "cell_type": "code",
   "execution_count": null,
   "id": "a4f61534",
   "metadata": {},
   "outputs": [],
   "source": [
    "bar_plot = pi_flow_dec172023['Value'].value_counts().plot.bar(width=0.7, zorder=3)\n",
    "\n",
    "# Set labels for axes\n",
    "bar_plot.set_xlabel(\"DateTime\")\n",
    "bar_plot.set_ylabel(\"Flow\")\n",
    "bar_plot.set_title(\"PI 1995 Level Sensor Record\")\n",
    "\n",
    "\n",
    "# Create a grid - using 'zorder' places grid behind the bars since we set their z-order higher\n",
    "bar_plot.grid(zorder=0)"
   ]
  },
  {
   "cell_type": "code",
   "execution_count": null,
   "id": "da2f53fd",
   "metadata": {},
   "outputs": [],
   "source": [
    "# Generate a line plot of tumor volume vs. time point for a single mouse treated with Capomulin\n",
    "# Identify data points of a mouse treated with Capomulin\n",
    "mouse = mouse_metadata_and_study_results.loc[mouse_metadata_and_study_results['Mouse ID'] == 's185']\n",
    "plt.plot(mouse['Timepoint'], mouse['Tumor Volume (mm3)'], marker = 'o')\n",
    "\n",
    "# Add labels and title to plot\n",
    "plt.xlabel(\"Time (days)\")\n",
    "plt.ylabel(\"Tumor Volume (mm3)\")\n",
    "plt.title(\"Capomulin Treatment of Mouse s185\")\n",
    "\n",
    "# Display plot\n",
    "plt.show()"
   ]
  }
 ],
 "metadata": {
  "kernelspec": {
   "display_name": "Python 3 (ipykernel)",
   "language": "python",
   "name": "python3"
  },
  "language_info": {
   "codemirror_mode": {
    "name": "ipython",
    "version": 3
   },
   "file_extension": ".py",
   "mimetype": "text/x-python",
   "name": "python",
   "nbconvert_exporter": "python",
   "pygments_lexer": "ipython3",
   "version": "3.10.13"
  }
 },
 "nbformat": 4,
 "nbformat_minor": 5
}
