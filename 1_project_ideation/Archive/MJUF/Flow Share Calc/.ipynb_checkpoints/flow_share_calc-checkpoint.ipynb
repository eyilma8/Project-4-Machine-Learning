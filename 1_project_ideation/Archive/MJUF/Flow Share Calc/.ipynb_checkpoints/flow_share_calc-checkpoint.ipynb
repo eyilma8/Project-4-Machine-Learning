{
 "cells": [
  {
   "cell_type": "code",
   "execution_count": 18,
   "id": "c551f526",
   "metadata": {},
   "outputs": [],
   "source": [
    "# Import Dependencies\n",
    "import pandas as pd\n",
    "from pathlib import Path\n",
    "import numpy as np"
   ]
  },
  {
   "cell_type": "code",
   "execution_count": 17,
   "id": "0fa07885",
   "metadata": {},
   "outputs": [
    {
     "data": {
      "text/html": [
       "<div>\n",
       "<style scoped>\n",
       "    .dataframe tbody tr th:only-of-type {\n",
       "        vertical-align: middle;\n",
       "    }\n",
       "\n",
       "    .dataframe tbody tr th {\n",
       "        vertical-align: top;\n",
       "    }\n",
       "\n",
       "    .dataframe thead th {\n",
       "        text-align: right;\n",
       "    }\n",
       "</style>\n",
       "<table border=\"1\" class=\"dataframe\">\n",
       "  <thead>\n",
       "    <tr style=\"text-align: right;\">\n",
       "      <th></th>\n",
       "      <th>station</th>\n",
       "      <th>report_year</th>\n",
       "      <th>annual_flow</th>\n",
       "    </tr>\n",
       "  </thead>\n",
       "  <tbody>\n",
       "    <tr>\n",
       "      <th>0</th>\n",
       "      <td>Main</td>\n",
       "      <td>2023</td>\n",
       "      <td>47.98</td>\n",
       "    </tr>\n",
       "    <tr>\n",
       "      <th>1</th>\n",
       "      <td>O Street</td>\n",
       "      <td>2023</td>\n",
       "      <td>4.16</td>\n",
       "    </tr>\n",
       "    <tr>\n",
       "      <th>2</th>\n",
       "      <td>Eastside</td>\n",
       "      <td>2023</td>\n",
       "      <td>5.40</td>\n",
       "    </tr>\n",
       "    <tr>\n",
       "      <th>3</th>\n",
       "      <td>Poplar Point</td>\n",
       "      <td>2023</td>\n",
       "      <td>7.76</td>\n",
       "    </tr>\n",
       "    <tr>\n",
       "      <th>4</th>\n",
       "      <td>Potomac</td>\n",
       "      <td>2023</td>\n",
       "      <td>111.65</td>\n",
       "    </tr>\n",
       "    <tr>\n",
       "      <th>5</th>\n",
       "      <td>Rock Creek</td>\n",
       "      <td>2023</td>\n",
       "      <td>3.22</td>\n",
       "    </tr>\n",
       "    <tr>\n",
       "      <th>6</th>\n",
       "      <td>Upper Anacostia</td>\n",
       "      <td>2023</td>\n",
       "      <td>1.20</td>\n",
       "    </tr>\n",
       "    <tr>\n",
       "      <th>7</th>\n",
       "      <td>Earl Place</td>\n",
       "      <td>2023</td>\n",
       "      <td>0.01</td>\n",
       "    </tr>\n",
       "  </tbody>\n",
       "</table>\n",
       "</div>"
      ],
      "text/plain": [
       "           station  report_year  annual_flow\n",
       "0            Main          2023        47.98\n",
       "1         O Street         2023         4.16\n",
       "2         Eastside         2023         5.40\n",
       "3    Poplar Point          2023         7.76\n",
       "4          Potomac         2023       111.65\n",
       "5       Rock Creek         2023         3.22\n",
       "6  Upper Anacostia         2023         1.20\n",
       "7       Earl Place         2023         0.01"
      ]
     },
     "execution_count": 17,
     "metadata": {},
     "output_type": "execute_result"
    }
   ],
   "source": [
    "csv_path_flow_2023 = Path(\"user_flow_fy2023.csv\")\n",
    "csv_path_dist_flow = Path(\"6. district_flow_estimate.csv\")\n",
    "csv_path_verif_flow = Path(\"7. verification_flow.csv\")\n",
    "dist_flow = pd.read_csv(csv_path_dist_flow, encoding=\"UTF-8\")\n",
    "flow_2023 = pd.read_csv(csv_path_flow_2023, encoding=\"UTF-8\")                         \n",
    "VerificationFlow_2023 = pd.read_csv(csv_path_verif_flow, encoding=\"UTF-8\")\n",
    "VerificationFlow_2023.round(2)"
   ]
  },
  {
   "cell_type": "markdown",
   "id": "eb26cb3b",
   "metadata": {},
   "source": [
    "# Inputs"
   ]
  },
  {
   "cell_type": "code",
   "execution_count": 19,
   "id": "1137d07b",
   "metadata": {},
   "outputs": [
    {
     "data": {
      "text/html": [
       "<div>\n",
       "<style scoped>\n",
       "    .dataframe tbody tr th:only-of-type {\n",
       "        vertical-align: middle;\n",
       "    }\n",
       "\n",
       "    .dataframe tbody tr th {\n",
       "        vertical-align: top;\n",
       "    }\n",
       "\n",
       "    .dataframe thead th {\n",
       "        text-align: right;\n",
       "    }\n",
       "</style>\n",
       "<table border=\"1\" class=\"dataframe\">\n",
       "  <thead>\n",
       "    <tr style=\"text-align: right;\">\n",
       "      <th></th>\n",
       "      <th>user</th>\n",
       "      <th>flow_route</th>\n",
       "      <th>flow_route_name</th>\n",
       "      <th>sewersheds</th>\n",
       "      <th>pop</th>\n",
       "      <th>emp</th>\n",
       "      <th>visitor</th>\n",
       "      <th>area_acres</th>\n",
       "      <th>infilt_InchMile</th>\n",
       "      <th>Infil_mgdinchMile</th>\n",
       "      <th>...</th>\n",
       "      <th>pro_infiltration_rate</th>\n",
       "      <th>storm_mgd</th>\n",
       "      <th>sanitary_mgd</th>\n",
       "      <th>high_user_mgd</th>\n",
       "      <th>ground_water_pumpage</th>\n",
       "      <th>total_annual_flow</th>\n",
       "      <th>billing_dc_flow</th>\n",
       "      <th>impervious__acres</th>\n",
       "      <th>pervious_acres</th>\n",
       "      <th>pipe_surface_area_acres</th>\n",
       "    </tr>\n",
       "  </thead>\n",
       "  <tbody>\n",
       "    <tr>\n",
       "      <th>0</th>\n",
       "      <td>dc</td>\n",
       "      <td>1</td>\n",
       "      <td>little falls</td>\n",
       "      <td>MD-LF</td>\n",
       "      <td>330</td>\n",
       "      <td>874</td>\n",
       "      <td>209</td>\n",
       "      <td>43</td>\n",
       "      <td>0.00</td>\n",
       "      <td>0.0000</td>\n",
       "      <td>...</td>\n",
       "      <td>NaN</td>\n",
       "      <td>NaN</td>\n",
       "      <td>0.09</td>\n",
       "      <td>NaN</td>\n",
       "      <td>0.02</td>\n",
       "      <td>NaN</td>\n",
       "      <td>NaN</td>\n",
       "      <td>NaN</td>\n",
       "      <td>NaN</td>\n",
       "      <td>0.67</td>\n",
       "    </tr>\n",
       "    <tr>\n",
       "      <th>1</th>\n",
       "      <td>dc</td>\n",
       "      <td>1</td>\n",
       "      <td>little falls</td>\n",
       "      <td>LF Boundary (BN-68)</td>\n",
       "      <td>10084</td>\n",
       "      <td>8478</td>\n",
       "      <td>0</td>\n",
       "      <td>870</td>\n",
       "      <td>781.85</td>\n",
       "      <td>0.0026</td>\n",
       "      <td>...</td>\n",
       "      <td>NaN</td>\n",
       "      <td>NaN</td>\n",
       "      <td>1.42</td>\n",
       "      <td>0.16</td>\n",
       "      <td>0.04</td>\n",
       "      <td>NaN</td>\n",
       "      <td>NaN</td>\n",
       "      <td>NaN</td>\n",
       "      <td>NaN</td>\n",
       "      <td>10.86</td>\n",
       "    </tr>\n",
       "    <tr>\n",
       "      <th>2</th>\n",
       "      <td>dc</td>\n",
       "      <td>1</td>\n",
       "      <td>little falls</td>\n",
       "      <td>UPI-NM1 (BN-68)</td>\n",
       "      <td>259</td>\n",
       "      <td>431</td>\n",
       "      <td>0</td>\n",
       "      <td>48</td>\n",
       "      <td>13.03</td>\n",
       "      <td>0.0026</td>\n",
       "      <td>...</td>\n",
       "      <td>NaN</td>\n",
       "      <td>NaN</td>\n",
       "      <td>0.04</td>\n",
       "      <td>0.49</td>\n",
       "      <td>NaN</td>\n",
       "      <td>NaN</td>\n",
       "      <td>NaN</td>\n",
       "      <td>NaN</td>\n",
       "      <td>NaN</td>\n",
       "      <td>0.36</td>\n",
       "    </tr>\n",
       "    <tr>\n",
       "      <th>3</th>\n",
       "      <td>dc</td>\n",
       "      <td>1</td>\n",
       "      <td>little falls</td>\n",
       "      <td>UPI-NM2 (BN-69)</td>\n",
       "      <td>2241</td>\n",
       "      <td>1693</td>\n",
       "      <td>0</td>\n",
       "      <td>202</td>\n",
       "      <td>151.42</td>\n",
       "      <td>0.0026</td>\n",
       "      <td>...</td>\n",
       "      <td>NaN</td>\n",
       "      <td>NaN</td>\n",
       "      <td>0.31</td>\n",
       "      <td>NaN</td>\n",
       "      <td>NaN</td>\n",
       "      <td>NaN</td>\n",
       "      <td>NaN</td>\n",
       "      <td>NaN</td>\n",
       "      <td>NaN</td>\n",
       "      <td>1.91</td>\n",
       "    </tr>\n",
       "    <tr>\n",
       "      <th>4</th>\n",
       "      <td>dc</td>\n",
       "      <td>1</td>\n",
       "      <td>little falls</td>\n",
       "      <td>UPI-NM3 (M-4317)</td>\n",
       "      <td>585</td>\n",
       "      <td>440</td>\n",
       "      <td>0</td>\n",
       "      <td>107</td>\n",
       "      <td>108.90</td>\n",
       "      <td>0.0026</td>\n",
       "      <td>...</td>\n",
       "      <td>NaN</td>\n",
       "      <td>NaN</td>\n",
       "      <td>0.08</td>\n",
       "      <td>0.24</td>\n",
       "      <td>NaN</td>\n",
       "      <td>NaN</td>\n",
       "      <td>NaN</td>\n",
       "      <td>NaN</td>\n",
       "      <td>NaN</td>\n",
       "      <td>1.95</td>\n",
       "    </tr>\n",
       "  </tbody>\n",
       "</table>\n",
       "<p>5 rows × 21 columns</p>\n",
       "</div>"
      ],
      "text/plain": [
       "  user  flow_route flow_route_name           sewersheds    pop   emp  visitor  \\\n",
       "0   dc           1    little falls                MD-LF    330   874      209   \n",
       "1   dc           1    little falls  LF Boundary (BN-68)  10084  8478        0   \n",
       "2   dc           1    little falls      UPI-NM1 (BN-68)    259   431        0   \n",
       "3   dc           1    little falls      UPI-NM2 (BN-69)   2241  1693        0   \n",
       "4   dc           1    little falls     UPI-NM3 (M-4317)    585   440        0   \n",
       "\n",
       "   area_acres  infilt_InchMile  Infil_mgdinchMile  ...  pro_infiltration_rate  \\\n",
       "0          43             0.00             0.0000  ...                    NaN   \n",
       "1         870           781.85             0.0026  ...                    NaN   \n",
       "2          48            13.03             0.0026  ...                    NaN   \n",
       "3         202           151.42             0.0026  ...                    NaN   \n",
       "4         107           108.90             0.0026  ...                    NaN   \n",
       "\n",
       "   storm_mgd  sanitary_mgd  high_user_mgd  ground_water_pumpage  \\\n",
       "0        NaN          0.09            NaN                  0.02   \n",
       "1        NaN          1.42           0.16                  0.04   \n",
       "2        NaN          0.04           0.49                   NaN   \n",
       "3        NaN          0.31            NaN                   NaN   \n",
       "4        NaN          0.08           0.24                   NaN   \n",
       "\n",
       "   total_annual_flow  billing_dc_flow  impervious__acres  pervious_acres  \\\n",
       "0                NaN              NaN                NaN             NaN   \n",
       "1                NaN              NaN                NaN             NaN   \n",
       "2                NaN              NaN                NaN             NaN   \n",
       "3                NaN              NaN                NaN             NaN   \n",
       "4                NaN              NaN                NaN             NaN   \n",
       "\n",
       "   pipe_surface_area_acres  \n",
       "0                     0.67  \n",
       "1                    10.86  \n",
       "2                     0.36  \n",
       "3                     1.91  \n",
       "4                     1.95  \n",
       "\n",
       "[5 rows x 21 columns]"
      ]
     },
     "execution_count": 19,
     "metadata": {},
     "output_type": "execute_result"
    }
   ],
   "source": [
    "distric_flow_est =  pd.read_csv(csv_path_dist_flow, encoding=\"UTF-8\")\n",
    "distric_flow_est.head()"
   ]
  },
  {
   "cell_type": "code",
   "execution_count": 20,
   "id": "89ed1852",
   "metadata": {},
   "outputs": [],
   "source": [
    "rainfall = 42\n",
    "#1 ac-ft/min = \n",
    "gal_per_min = 325851.428571\n",
    "Drainage_coeff_for_imperv_area = 0.9\n",
    "#ratio of runoff to rainfall (Design Manual, Vol. 3, p. 3-D1-7), in./in.\n",
    "Drainage_Coeff_for_perv_Area = 0.3\n",
    "Wastewater_per_capita =110\n",
    "# mgd (From Section 3.5.2 Unit Wastwater Flow Factor)\n",
    "Theoretical_Qlf = 16.6\n",
    "Factor_for_High_Water_Use= Theoretical_Qlf/19.05\n",
    "# Infiltration (Table 6-1)= ((rainfall-40.84)*((50.32-40.84)/(52-64)))+52\n",
    "Infiltration = (((rainfall-40.84)*((50.32-40.84)/(52-64)))+52)\n",
    "Factor_infil= Infiltration/distric_flow_est[\"infil_MGD\"].sum()\n",
    "#  gallons/day from Tech Memo 18, p. 3-14\n",
    "# Rainfall 34.90 inches\tComparing to Table 6-1 'Projected District Wastewater Quantities'\n",
    "# Rainfall ft = 2.908333 ac-ft/min 325,851 gal/min"
   ]
  },
  {
   "cell_type": "code",
   "execution_count": 21,
   "id": "4a7ea4b2",
   "metadata": {},
   "outputs": [
    {
     "name": "stdout",
     "output_type": "stream",
     "text": [
      "Rain Fall 2023                 = 42\n",
      "Infiltration based on rainfall =  51.08\n",
      "Infiltration Factor            =  0.48\n",
      "Drainage_coeff_for_imperv_area = 0.9\n",
      "Drainage_Coeff_for_perv_Area   =  0.3\n",
      "Wastewater_per_capita          =  110\n",
      "Theoretical_Qlf                =  16.6\n",
      "Factor for High Water Use      =  0.87\n"
     ]
    }
   ],
   "source": [
    "print(\"Rain Fall 2023                 =\",rainfall)\n",
    "print(\"Infiltration based on rainfall = \",format(Infiltration, '.2f'))\n",
    "print(\"Infiltration Factor            = \",format(Factor_infil, '.2f') )\n",
    "print(\"Drainage_coeff_for_imperv_area =\",Drainage_coeff_for_imperv_area)\n",
    "print(\"Drainage_Coeff_for_perv_Area   = \", Drainage_Coeff_for_perv_Area)\n",
    "print(\"Wastewater_per_capita          = \",Wastewater_per_capita)\n",
    "print(\"Theoretical_Qlf                = \",Theoretical_Qlf)\n",
    "print(\"Factor for High Water Use      = \", format(Factor_for_High_Water_Use, '.2f'))"
   ]
  },
  {
   "cell_type": "markdown",
   "id": "a6975a4a",
   "metadata": {},
   "source": [
    "Calculate District Sewershed Flows incl Sanitary, Storm, High Water Users and Goundwater, finally Total district flow"
   ]
  },
  {
   "cell_type": "code",
   "execution_count": 22,
   "id": "f712c522",
   "metadata": {},
   "outputs": [
    {
     "name": "stdout",
     "output_type": "stream",
     "text": [
      "Estimated District Flow =  190.43 mgd\n"
     ]
    },
    {
     "data": {
      "text/html": [
       "<div>\n",
       "<style scoped>\n",
       "    .dataframe tbody tr th:only-of-type {\n",
       "        vertical-align: middle;\n",
       "    }\n",
       "\n",
       "    .dataframe tbody tr th {\n",
       "        vertical-align: top;\n",
       "    }\n",
       "\n",
       "    .dataframe thead th {\n",
       "        text-align: right;\n",
       "    }\n",
       "</style>\n",
       "<table border=\"1\" class=\"dataframe\">\n",
       "  <thead>\n",
       "    <tr style=\"text-align: right;\">\n",
       "      <th></th>\n",
       "      <th>flow_route</th>\n",
       "      <th>sewersheds</th>\n",
       "      <th>total_annual_flow</th>\n",
       "    </tr>\n",
       "  </thead>\n",
       "  <tbody>\n",
       "    <tr>\n",
       "      <th>0</th>\n",
       "      <td>1</td>\n",
       "      <td>MD-LF</td>\n",
       "      <td>0.11</td>\n",
       "    </tr>\n",
       "    <tr>\n",
       "      <th>1</th>\n",
       "      <td>1</td>\n",
       "      <td>LF Boundary (BN-68)</td>\n",
       "      <td>2.60</td>\n",
       "    </tr>\n",
       "    <tr>\n",
       "      <th>2</th>\n",
       "      <td>1</td>\n",
       "      <td>UPI-NM1 (BN-68)</td>\n",
       "      <td>0.55</td>\n",
       "    </tr>\n",
       "    <tr>\n",
       "      <th>3</th>\n",
       "      <td>1</td>\n",
       "      <td>UPI-NM2 (BN-69)</td>\n",
       "      <td>0.50</td>\n",
       "    </tr>\n",
       "    <tr>\n",
       "      <th>4</th>\n",
       "      <td>1</td>\n",
       "      <td>UPI-NM3 (M-4317)</td>\n",
       "      <td>0.46</td>\n",
       "    </tr>\n",
       "  </tbody>\n",
       "</table>\n",
       "</div>"
      ],
      "text/plain": [
       "   flow_route           sewersheds  total_annual_flow\n",
       "0           1                MD-LF               0.11\n",
       "1           1  LF Boundary (BN-68)               2.60\n",
       "2           1      UPI-NM1 (BN-68)               0.55\n",
       "3           1      UPI-NM2 (BN-69)               0.50\n",
       "4           1     UPI-NM3 (M-4317)               0.46"
      ]
     },
     "execution_count": 22,
     "metadata": {},
     "output_type": "execute_result"
    }
   ],
   "source": [
    "distric_flow_est['pro_infiltration_rate'] = distric_flow_est[\"infil_MGD\"]*Factor_infil\n",
    "distric_flow_est['storm_mgd'] = (distric_flow_est[\"impervious__acres\"]*Drainage_coeff_for_imperv_area*(rainfall/12)*gal_per_min\n",
    "                                + \n",
    "                                distric_flow_est[\"pervious_acres\"]*Drainage_Coeff_for_perv_Area* (rainfall/12)*gal_per_min)/365.242199/1000000\n",
    "distric_flow_est['storm_mgd'] =distric_flow_est['storm_mgd'] .fillna(0)\n",
    "\n",
    "distric_flow_est['sanitary_mgd'] = ((distric_flow_est[\"pop\"]+ distric_flow_est[\"emp\"]/3+ \n",
    "                                    distric_flow_est[\"visitor\"])*Wastewater_per_capita )/1000000\n",
    "distric_flow_est['high_user_mgd'] = distric_flow_est['high_user_mgd'].fillna(0)\n",
    "distric_flow_est['ground_water_pumpage'] = distric_flow_est['ground_water_pumpage'].fillna(0)\n",
    "# distric_flow_est['DataFrame Column'] = distric_flow_est['DataFrame Column'].fillna(0)\n",
    "                 \n",
    "distric_flow_est['total_annual_flow'] = (distric_flow_est[\"storm_mgd\"]+ distric_flow_est[\"sanitary_mgd\"] +\\\n",
    "                                    distric_flow_est[\"high_user_mgd\"]+distric_flow_est[\"ground_water_pumpage\"] +\\\n",
    "                                    distric_flow_est[\"pro_infiltration_rate\"]).round(2)\n",
    "\n",
    "district_flow = distric_flow_est[[\"flow_route\",\"sewersheds\",\"storm_mgd\",\"sanitary_mgd\",\"pro_infiltration_rate\",\n",
    "                  \"high_user_mgd\",\"ground_water_pumpage\",\"total_annual_flow\"]]\n",
    "\n",
    "district_flow = district_flow[[\"flow_route\",\"sewersheds\",\"total_annual_flow\"]]\n",
    "DC_est_annualflow = district_flow[\"total_annual_flow\"].sum()\n",
    "print(\"Estimated District Flow = \",DC_est_annualflow,\"mgd\")\n",
    "district_flow.head()"
   ]
  },
  {
   "cell_type": "code",
   "execution_count": 8,
   "id": "b06e3c77",
   "metadata": {},
   "outputs": [
    {
     "name": "stdout",
     "output_type": "stream",
     "text": [
      "Storm, mgd =  23.14\n",
      "Sanitary, mgd =  89.05\n",
      "Infiltration,mgd =  51.08\n",
      "TotalAnnualFlow, mgd =  190.43\n"
     ]
    }
   ],
   "source": [
    "print(\"Storm, mgd = \",distric_flow_est['storm_mgd'].sum().round(2))\n",
    "print(\"Sanitary, mgd = \",distric_flow_est['sanitary_mgd'].sum().round(2))\n",
    "print(\"Infiltration,mgd = \",distric_flow_est['pro_infiltration_rate'].sum().round(2))\n",
    "print(\"TotalAnnualFlow, mgd = \",distric_flow_est['total_annual_flow'].sum().round(2))"
   ]
  },
  {
   "cell_type": "markdown",
   "id": "b9813bfe",
   "metadata": {},
   "source": [
    "# User Flow Reported Fiscal Year 2023"
   ]
  },
  {
   "cell_type": "markdown",
   "id": "170100bc",
   "metadata": {},
   "source": [
    "Flow Share calculation  Inside the District Boundary"
   ]
  },
  {
   "cell_type": "markdown",
   "id": "d94a9c0d",
   "metadata": {},
   "source": [
    "# WSSC Billing Flow Report for Fiscal Year 2023"
   ]
  },
  {
   "cell_type": "code",
   "execution_count": 23,
   "id": "bb33583e",
   "metadata": {},
   "outputs": [
    {
     "name": "stdout",
     "output_type": "stream",
     "text": [
      "WSSC Billing Total Flow =  monthly_flow    97.16\n",
      "dtype: object\n"
     ]
    },
    {
     "data": {
      "text/html": [
       "<div>\n",
       "<style scoped>\n",
       "    .dataframe tbody tr th:only-of-type {\n",
       "        vertical-align: middle;\n",
       "    }\n",
       "\n",
       "    .dataframe tbody tr th {\n",
       "        vertical-align: top;\n",
       "    }\n",
       "\n",
       "    .dataframe thead th {\n",
       "        text-align: right;\n",
       "    }\n",
       "</style>\n",
       "<table border=\"1\" class=\"dataframe\">\n",
       "  <thead>\n",
       "    <tr style=\"text-align: right;\">\n",
       "      <th></th>\n",
       "      <th>monthly_flow</th>\n",
       "    </tr>\n",
       "    <tr>\n",
       "      <th>input_name</th>\n",
       "      <th></th>\n",
       "    </tr>\n",
       "  </thead>\n",
       "  <tbody>\n",
       "    <tr>\n",
       "      <th>BARNABY</th>\n",
       "      <td>0.76</td>\n",
       "    </tr>\n",
       "    <tr>\n",
       "      <th>BELT</th>\n",
       "      <td>0.16</td>\n",
       "    </tr>\n",
       "    <tr>\n",
       "      <th>CABIN_JOHN</th>\n",
       "      <td>5.68</td>\n",
       "    </tr>\n",
       "    <tr>\n",
       "      <th>DC-WSSC - ANACOSTIA</th>\n",
       "      <td>52.12</td>\n",
       "    </tr>\n",
       "    <tr>\n",
       "      <th>EAST BEACH DRIVE</th>\n",
       "      <td>0.70</td>\n",
       "    </tr>\n",
       "  </tbody>\n",
       "</table>\n",
       "</div>"
      ],
      "text/plain": [
       "                     monthly_flow\n",
       "input_name                       \n",
       "BARNABY                      0.76\n",
       "BELT                         0.16\n",
       "CABIN_JOHN                   5.68\n",
       "DC-WSSC - ANACOSTIA         52.12\n",
       "EAST BEACH DRIVE             0.70"
      ]
     },
     "execution_count": 23,
     "metadata": {},
     "output_type": "execute_result"
    }
   ],
   "source": [
    "flow_2023_wssc = flow_2023[flow_2023[\"user_name\"]=='wssc']\n",
    "flow_2023_wssc_flow = flow_2023_wssc.groupby([\"input_name\"])[[\"monthly_flow\"]].sum()/365.25\n",
    "print(\"WSSC Billing Total Flow = \",flow_2023_wssc_flow.sum().map(\"{:,.2f}\".format))\n",
    "flow_2023_wssc_flow.round(2).head()"
   ]
  },
  {
   "cell_type": "markdown",
   "id": "a807006d",
   "metadata": {},
   "source": [
    "# Fairfax Billing Flow Report for Fiscal Year 2023"
   ]
  },
  {
   "cell_type": "code",
   "execution_count": 24,
   "id": "d363ab1b",
   "metadata": {},
   "outputs": [
    {
     "name": "stdout",
     "output_type": "stream",
     "text": [
      "Fairfax Billing Total Flow =  monthly_flow    16.83\n",
      "dtype: object\n"
     ]
    },
    {
     "data": {
      "text/html": [
       "<div>\n",
       "<style scoped>\n",
       "    .dataframe tbody tr th:only-of-type {\n",
       "        vertical-align: middle;\n",
       "    }\n",
       "\n",
       "    .dataframe tbody tr th {\n",
       "        vertical-align: top;\n",
       "    }\n",
       "\n",
       "    .dataframe thead th {\n",
       "        text-align: right;\n",
       "    }\n",
       "</style>\n",
       "<table border=\"1\" class=\"dataframe\">\n",
       "  <thead>\n",
       "    <tr style=\"text-align: right;\">\n",
       "      <th></th>\n",
       "      <th>monthly_flow</th>\n",
       "    </tr>\n",
       "    <tr>\n",
       "      <th>input_name</th>\n",
       "      <th></th>\n",
       "    </tr>\n",
       "  </thead>\n",
       "  <tbody>\n",
       "    <tr>\n",
       "      <th>AT &amp; T - B3046 - P.I.</th>\n",
       "      <td>6.26</td>\n",
       "    </tr>\n",
       "    <tr>\n",
       "      <th>CHAIN BRIDGE - G4102 - DOWN</th>\n",
       "      <td>1.88</td>\n",
       "    </tr>\n",
       "    <tr>\n",
       "      <th>ROCK HILL ROAD - A3003 - P.I.</th>\n",
       "      <td>0.57</td>\n",
       "    </tr>\n",
       "    <tr>\n",
       "      <th>SUGARLAND RUN - B2006 - P.I.</th>\n",
       "      <td>3.51</td>\n",
       "    </tr>\n",
       "    <tr>\n",
       "      <th>Sully_Rd_1</th>\n",
       "      <td>2.69</td>\n",
       "    </tr>\n",
       "  </tbody>\n",
       "</table>\n",
       "</div>"
      ],
      "text/plain": [
       "                               monthly_flow\n",
       "input_name                                 \n",
       "AT & T - B3046 - P.I.                  6.26\n",
       "CHAIN BRIDGE - G4102 - DOWN            1.88\n",
       "ROCK HILL ROAD - A3003 - P.I.          0.57\n",
       "SUGARLAND RUN - B2006 - P.I.           3.51\n",
       "Sully_Rd_1                             2.69"
      ]
     },
     "execution_count": 24,
     "metadata": {},
     "output_type": "execute_result"
    }
   ],
   "source": [
    "flow_2023_fairfax = flow_2023[flow_2023[\"user_name\"]=='fairfax']\n",
    "flow_2023_fairfax_flow = flow_2023_fairfax.groupby([\"input_name\"])[[\"monthly_flow\"]].sum()/365.25\n",
    "print(\"Fairfax Billing Total Flow = \",flow_2023_fairfax_flow.sum().map(\"{:,.2f}\".format))\n",
    "flow_2023_fairfax_flow.round(2).head()"
   ]
  },
  {
   "cell_type": "markdown",
   "id": "1200d7bc",
   "metadata": {},
   "source": [
    "# Loudoun Billing Flow Report for Fiscal Year 2023"
   ]
  },
  {
   "cell_type": "code",
   "execution_count": 25,
   "id": "725bc6ec",
   "metadata": {},
   "outputs": [
    {
     "name": "stdout",
     "output_type": "stream",
     "text": [
      "Loudoun Billing Total Flow =  monthly_flow    6.59\n",
      "dtype: object mgd\n"
     ]
    },
    {
     "data": {
      "text/html": [
       "<div>\n",
       "<style scoped>\n",
       "    .dataframe tbody tr th:only-of-type {\n",
       "        vertical-align: middle;\n",
       "    }\n",
       "\n",
       "    .dataframe tbody tr th {\n",
       "        vertical-align: top;\n",
       "    }\n",
       "\n",
       "    .dataframe thead th {\n",
       "        text-align: right;\n",
       "    }\n",
       "</style>\n",
       "<table border=\"1\" class=\"dataframe\">\n",
       "  <thead>\n",
       "    <tr style=\"text-align: right;\">\n",
       "      <th></th>\n",
       "      <th>monthly_flow</th>\n",
       "    </tr>\n",
       "    <tr>\n",
       "      <th>input_name</th>\n",
       "      <th></th>\n",
       "    </tr>\n",
       "  </thead>\n",
       "  <tbody>\n",
       "    <tr>\n",
       "      <th>BEAUMEADE #1</th>\n",
       "      <td>0.22</td>\n",
       "    </tr>\n",
       "    <tr>\n",
       "      <th>BEAUMEADE 2 SM</th>\n",
       "      <td>0.02</td>\n",
       "    </tr>\n",
       "    <tr>\n",
       "      <th>BOISE CASCADE</th>\n",
       "      <td>0.37</td>\n",
       "    </tr>\n",
       "    <tr>\n",
       "      <th>BRIDGES 625/604 - S8</th>\n",
       "      <td>0.45</td>\n",
       "    </tr>\n",
       "    <tr>\n",
       "      <th>BROAD RUN</th>\n",
       "      <td>0.31</td>\n",
       "    </tr>\n",
       "  </tbody>\n",
       "</table>\n",
       "</div>"
      ],
      "text/plain": [
       "                      monthly_flow\n",
       "input_name                        \n",
       "BEAUMEADE #1                  0.22\n",
       "BEAUMEADE 2 SM                0.02\n",
       "BOISE CASCADE                 0.37\n",
       "BRIDGES 625/604 - S8          0.45\n",
       "BROAD RUN                     0.31"
      ]
     },
     "execution_count": 25,
     "metadata": {},
     "output_type": "execute_result"
    }
   ],
   "source": [
    "flow_2023_Loudoun = flow_2023[flow_2023[\"user_name\"]=='loudoun']\n",
    "flow_2023_Loudoun_flow = flow_2023_Loudoun.groupby([\"input_name\"])[[\"monthly_flow\"]].sum()/365.25\n",
    "print(\"Loudoun Billing Total Flow = \",flow_2023_Loudoun_flow.sum().map(\"{:,.2f}\".format),\"mgd\")\n",
    "flow_2023_Loudoun_flow.round(2).head()"
   ]
  },
  {
   "cell_type": "markdown",
   "id": "6f809fcf",
   "metadata": {},
   "source": [
    "# Vienna Billing Flow Report for Fiscal Year 2023"
   ]
  },
  {
   "cell_type": "code",
   "execution_count": 26,
   "id": "cbdb598d",
   "metadata": {},
   "outputs": [
    {
     "name": "stdout",
     "output_type": "stream",
     "text": [
      "Town of Vienna Billing Total Flow =  monthly_flow    1.06\n",
      "dtype: object\n"
     ]
    },
    {
     "data": {
      "text/html": [
       "<div>\n",
       "<style scoped>\n",
       "    .dataframe tbody tr th:only-of-type {\n",
       "        vertical-align: middle;\n",
       "    }\n",
       "\n",
       "    .dataframe tbody tr th {\n",
       "        vertical-align: top;\n",
       "    }\n",
       "\n",
       "    .dataframe thead th {\n",
       "        text-align: right;\n",
       "    }\n",
       "</style>\n",
       "<table border=\"1\" class=\"dataframe\">\n",
       "  <thead>\n",
       "    <tr style=\"text-align: right;\">\n",
       "      <th></th>\n",
       "      <th>monthly_flow</th>\n",
       "    </tr>\n",
       "    <tr>\n",
       "      <th>input_name</th>\n",
       "      <th></th>\n",
       "    </tr>\n",
       "  </thead>\n",
       "  <tbody>\n",
       "    <tr>\n",
       "      <th>CREEK CROSSING</th>\n",
       "      <td>0.43</td>\n",
       "    </tr>\n",
       "    <tr>\n",
       "      <th>NORTHSIDE</th>\n",
       "      <td>0.53</td>\n",
       "    </tr>\n",
       "    <tr>\n",
       "      <th>UNMETERED - VIENNA</th>\n",
       "      <td>0.11</td>\n",
       "    </tr>\n",
       "  </tbody>\n",
       "</table>\n",
       "</div>"
      ],
      "text/plain": [
       "                    monthly_flow\n",
       "input_name                      \n",
       "CREEK CROSSING              0.43\n",
       "NORTHSIDE                   0.53\n",
       "UNMETERED - VIENNA          0.11"
      ]
     },
     "execution_count": 26,
     "metadata": {},
     "output_type": "execute_result"
    }
   ],
   "source": [
    "flow_2023_Vienna = flow_2023[flow_2023[\"user_name\"]=='vienna']\n",
    "flow_2023_Vienna_flow = flow_2023_Vienna.groupby([\"input_name\"])[[\"monthly_flow\"]].sum()/365.25\n",
    "print(\"Town of Vienna Billing Total Flow = \",flow_2023_Vienna_flow.sum().map(\"{:,.2f}\".format))\n",
    "flow_2023_Vienna_flow.round(2)"
   ]
  },
  {
   "cell_type": "markdown",
   "id": "2a74f342",
   "metadata": {},
   "source": [
    "# Dulles International Airport Billing Flow Report for Fiscal Year 2023"
   ]
  },
  {
   "cell_type": "code",
   "execution_count": 27,
   "id": "69b917c9-501e-4ecc-86aa-4b32376871b1",
   "metadata": {},
   "outputs": [
    {
     "name": "stdout",
     "output_type": "stream",
     "text": [
      "Dulles Billing Total Flow =  monthly_flow    0.81\n",
      "dtype: object\n"
     ]
    },
    {
     "data": {
      "text/html": [
       "<div>\n",
       "<style scoped>\n",
       "    .dataframe tbody tr th:only-of-type {\n",
       "        vertical-align: middle;\n",
       "    }\n",
       "\n",
       "    .dataframe tbody tr th {\n",
       "        vertical-align: top;\n",
       "    }\n",
       "\n",
       "    .dataframe thead th {\n",
       "        text-align: right;\n",
       "    }\n",
       "</style>\n",
       "<table border=\"1\" class=\"dataframe\">\n",
       "  <thead>\n",
       "    <tr style=\"text-align: right;\">\n",
       "      <th></th>\n",
       "      <th>monthly_flow</th>\n",
       "    </tr>\n",
       "    <tr>\n",
       "      <th>input_name</th>\n",
       "      <th></th>\n",
       "    </tr>\n",
       "  </thead>\n",
       "  <tbody>\n",
       "    <tr>\n",
       "      <th>DULLES   -   S -110</th>\n",
       "      <td>0.77</td>\n",
       "    </tr>\n",
       "    <tr>\n",
       "      <th>DULLES   -  S -14</th>\n",
       "      <td>0.04</td>\n",
       "    </tr>\n",
       "  </tbody>\n",
       "</table>\n",
       "</div>"
      ],
      "text/plain": [
       "                     monthly_flow\n",
       "input_name                       \n",
       "DULLES   -   S -110          0.77\n",
       "DULLES   -  S -14            0.04"
      ]
     },
     "execution_count": 27,
     "metadata": {},
     "output_type": "execute_result"
    }
   ],
   "source": [
    "flow_2023_Dulles = flow_2023[flow_2023[\"user_name\"]=='dulles']\n",
    "flow_2023_Dulles_flow = flow_2023_Dulles.groupby([\"input_name\"])[[\"monthly_flow\"]].sum()/365.25\n",
    "print(\"Dulles Billing Total Flow = \",flow_2023_Dulles_flow.sum().map(\"{:,.2f}\".format))\n",
    "flow_2023_Dulles_flow.round(2)"
   ]
  },
  {
   "cell_type": "code",
   "execution_count": 15,
   "id": "16df6116",
   "metadata": {},
   "outputs": [],
   "source": [
    "#Prorate District Flow\n",
    "# for i in range(90):\n",
    "#     percent_diverted_to_MainPS=10\n",
    "#     Main_Verif_Flow = VerificationFlow_2023.loc[[0,'annual_flow']]\n",
    "#     Suburban_flow_into_MainPS = [(flow_2023_wssc_flow[\"ROCKCREEK_VENTURI_36\"]+flow_2023_wssc_flow[\"ROCKCREEK_VENTURI_36\"])].sum()[\"monthly_flow\"] *percent_diverted_to_MainPS\n",
    "#     Main_PS_DC_Calc = Main_Verification_Flow - Suburban_flow_into_MainPS\n",
    "#     Adjust-Coeff_main = Main_PS_DC_Calc/Main_PS_DC_Est\n",
    "#     for j in range (len(district_flow ))\n",
    "#     Main_PS_DC_Est = Main_PS_DC_Est*Adjust-Coeff_main\n",
    "\n",
    "#     Potomac_Verification_Flow = VerificationFlow_2023.loc[4,'annual_flow']\n",
    "#     Suburban_flow_into_PotomacPS = WSSC_RCMI*(1-percent_diverted_to_MainPS)+PI_Users_Flow\n",
    "#     PotomacPS_DC_Calc = Potomac_Verification_Flow- Suburban_flow_into_PotomacPS\n",
    "#     Adjust-Coeff_Potomac = PotomacPS_DC_Calc/Potomac_PS_DC_Est\n",
    "#     Potomac_PS_DC_Est = Potomac_PS_DC_Est*Adjust-Coeff_Potomac\n",
    "\n",
    "# if Adjust-Coeff_Potomac == Adjust-Coeff_main\n",
    "#     print(\"Iteration Completed\")\n",
    "#     else\n",
    "    "
   ]
  },
  {
   "cell_type": "code",
   "execution_count": null,
   "id": "b7d38a6f",
   "metadata": {},
   "outputs": [],
   "source": [
    "#Prorate District Flow\n",
    "For i = 0.1\n",
    "\n",
    "Split_at_str35 = i\n",
    "PS_DC = RCPS + RTE3 + RTE4_1of2\n",
    "MS_DC = RTE4_2of2 + DC1 + DC1 \n",
    "\n",
    "Adjcoeff_PS = PS/PS_DC_Est\n",
    "Adjceff_MS = MS_Ver/MS_DC_Est\n",
    "\n",
    "if Adjcoeff_PS = Adjceff_MS then\n",
    "\n"
   ]
  },
  {
   "cell_type": "code",
   "execution_count": null,
   "id": "db84dccb",
   "metadata": {},
   "outputs": [],
   "source": []
  },
  {
   "cell_type": "markdown",
   "id": "1d8514c0",
   "metadata": {},
   "source": [
    "Route 1 to 11 Pipes Inside"
   ]
  },
  {
   "cell_type": "markdown",
   "id": "4835735a",
   "metadata": {},
   "source": [
    "Route 12 Potomac Interceptor"
   ]
  },
  {
   "cell_type": "code",
   "execution_count": null,
   "id": "396890c5",
   "metadata": {},
   "outputs": [],
   "source": [
    "# Route 12A\n",
    "\n",
    "# Route 12B\n",
    "\n",
    "# Route 12C\n",
    "\n",
    "# Route 12E\n",
    "\n",
    "# Route 12F\n",
    "\n"
   ]
  }
 ],
 "metadata": {
  "kernelspec": {
   "display_name": "Python 3 (ipykernel)",
   "language": "python",
   "name": "python3"
  },
  "language_info": {
   "codemirror_mode": {
    "name": "ipython",
    "version": 3
   },
   "file_extension": ".py",
   "mimetype": "text/x-python",
   "name": "python",
   "nbconvert_exporter": "python",
   "pygments_lexer": "ipython3",
   "version": "3.10.13"
  }
 },
 "nbformat": 4,
 "nbformat_minor": 5
}
