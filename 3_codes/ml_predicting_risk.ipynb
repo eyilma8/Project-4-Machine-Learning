{
 "cells": [
  {
   "cell_type": "code",
   "execution_count": 1,
   "metadata": {},
   "outputs": [],
   "source": [
    "# Import modules\n",
    "from warnings import simplefilter\n",
    "simplefilter(action='ignore', category=FutureWarning)\n",
    "import pandas as pd\n",
    "from pathlib import Path\n",
    "from sklearn.model_selection import train_test_split\n",
    "from sklearn.metrics import classification_report\n",
    "from sklearn.preprocessing import StandardScaler\n",
    "from sklearn.metrics import confusion_matrix, accuracy_score"
   ]
  },
  {
   "cell_type": "code",
   "execution_count": 2,
   "metadata": {
    "scrolled": true
   },
   "outputs": [
    {
     "data": {
      "text/html": [
       "<div>\n",
       "<style scoped>\n",
       "    .dataframe tbody tr th:only-of-type {\n",
       "        vertical-align: middle;\n",
       "    }\n",
       "\n",
       "    .dataframe tbody tr th {\n",
       "        vertical-align: top;\n",
       "    }\n",
       "\n",
       "    .dataframe thead th {\n",
       "        text-align: right;\n",
       "    }\n",
       "</style>\n",
       "<table border=\"1\" class=\"dataframe\">\n",
       "  <thead>\n",
       "    <tr style=\"text-align: right;\">\n",
       "      <th></th>\n",
       "      <th>Seg_ID</th>\n",
       "      <th>UP_MH</th>\n",
       "      <th>DS_MH</th>\n",
       "      <th>Dia_Inch</th>\n",
       "      <th>Shape</th>\n",
       "      <th>Material</th>\n",
       "      <th>Length_Ft</th>\n",
       "      <th>MWL</th>\n",
       "      <th>DS</th>\n",
       "      <th>defects</th>\n",
       "      <th>Video Quality</th>\n",
       "      <th>Jurisdiction</th>\n",
       "      <th>risk score</th>\n",
       "      <th>Inspection_cycle</th>\n",
       "    </tr>\n",
       "  </thead>\n",
       "  <tbody>\n",
       "    <tr>\n",
       "      <th>0</th>\n",
       "      <td>1.0</td>\n",
       "      <td>118.2</td>\n",
       "      <td>117.0</td>\n",
       "      <td>30</td>\n",
       "      <td>Circular</td>\n",
       "      <td>RCP</td>\n",
       "      <td>222.0</td>\n",
       "      <td>55</td>\n",
       "      <td>0.12</td>\n",
       "      <td>SAV</td>\n",
       "      <td>Good</td>\n",
       "      <td>Dulles Aiport</td>\n",
       "      <td>5</td>\n",
       "      <td>1</td>\n",
       "    </tr>\n",
       "    <tr>\n",
       "      <th>1</th>\n",
       "      <td>1.5</td>\n",
       "      <td>118.2</td>\n",
       "      <td>117.0</td>\n",
       "      <td>30</td>\n",
       "      <td>Circular</td>\n",
       "      <td>RCP</td>\n",
       "      <td>222.0</td>\n",
       "      <td>55</td>\n",
       "      <td>0.12</td>\n",
       "      <td>SAV</td>\n",
       "      <td>Good</td>\n",
       "      <td>Dulles Aiport</td>\n",
       "      <td>5</td>\n",
       "      <td>1</td>\n",
       "    </tr>\n",
       "    <tr>\n",
       "      <th>2</th>\n",
       "      <td>2.0</td>\n",
       "      <td>117.0</td>\n",
       "      <td>116.0</td>\n",
       "      <td>30</td>\n",
       "      <td>Circular</td>\n",
       "      <td>RCP</td>\n",
       "      <td>248.0</td>\n",
       "      <td>25</td>\n",
       "      <td>0.20</td>\n",
       "      <td>SAV</td>\n",
       "      <td>Good</td>\n",
       "      <td>Dulles Aiport</td>\n",
       "      <td>2</td>\n",
       "      <td>9</td>\n",
       "    </tr>\n",
       "    <tr>\n",
       "      <th>3</th>\n",
       "      <td>2.5</td>\n",
       "      <td>117.0</td>\n",
       "      <td>116.0</td>\n",
       "      <td>30</td>\n",
       "      <td>Circular</td>\n",
       "      <td>RCP</td>\n",
       "      <td>248.0</td>\n",
       "      <td>25</td>\n",
       "      <td>0.20</td>\n",
       "      <td>SAV</td>\n",
       "      <td>Good</td>\n",
       "      <td>Dulles Aiport</td>\n",
       "      <td>2</td>\n",
       "      <td>9</td>\n",
       "    </tr>\n",
       "    <tr>\n",
       "      <th>4</th>\n",
       "      <td>3.0</td>\n",
       "      <td>116.0</td>\n",
       "      <td>115.8</td>\n",
       "      <td>30</td>\n",
       "      <td>Circular</td>\n",
       "      <td>RCP</td>\n",
       "      <td>209.0</td>\n",
       "      <td>25</td>\n",
       "      <td>0.00</td>\n",
       "      <td>SAV</td>\n",
       "      <td>Good</td>\n",
       "      <td>Dulles Aiport</td>\n",
       "      <td>2</td>\n",
       "      <td>9</td>\n",
       "    </tr>\n",
       "    <tr>\n",
       "      <th>...</th>\n",
       "      <td>...</td>\n",
       "      <td>...</td>\n",
       "      <td>...</td>\n",
       "      <td>...</td>\n",
       "      <td>...</td>\n",
       "      <td>...</td>\n",
       "      <td>...</td>\n",
       "      <td>...</td>\n",
       "      <td>...</td>\n",
       "      <td>...</td>\n",
       "      <td>...</td>\n",
       "      <td>...</td>\n",
       "      <td>...</td>\n",
       "      <td>...</td>\n",
       "    </tr>\n",
       "    <tr>\n",
       "      <th>492</th>\n",
       "      <td>225.0</td>\n",
       "      <td>36206.0</td>\n",
       "      <td>36207.0</td>\n",
       "      <td>60</td>\n",
       "      <td>Circular</td>\n",
       "      <td>DIP</td>\n",
       "      <td>200.0</td>\n",
       "      <td>95</td>\n",
       "      <td>0.00</td>\n",
       "      <td>SRC</td>\n",
       "      <td>Poor</td>\n",
       "      <td>DC</td>\n",
       "      <td>5</td>\n",
       "      <td>1</td>\n",
       "    </tr>\n",
       "    <tr>\n",
       "      <th>493</th>\n",
       "      <td>226.0</td>\n",
       "      <td>36206.0</td>\n",
       "      <td>36207.0</td>\n",
       "      <td>42</td>\n",
       "      <td>Circular</td>\n",
       "      <td>DIP</td>\n",
       "      <td>200.0</td>\n",
       "      <td>95</td>\n",
       "      <td>0.00</td>\n",
       "      <td>SAV</td>\n",
       "      <td>Poor</td>\n",
       "      <td>DC</td>\n",
       "      <td>1</td>\n",
       "      <td>3</td>\n",
       "    </tr>\n",
       "    <tr>\n",
       "      <th>494</th>\n",
       "      <td>227.0</td>\n",
       "      <td>36184.0</td>\n",
       "      <td>36184.5</td>\n",
       "      <td>108</td>\n",
       "      <td>Circular</td>\n",
       "      <td>RCP</td>\n",
       "      <td>341.0</td>\n",
       "      <td>30</td>\n",
       "      <td>0.00</td>\n",
       "      <td>SRP</td>\n",
       "      <td>NaN</td>\n",
       "      <td>DC</td>\n",
       "      <td>4</td>\n",
       "      <td>9</td>\n",
       "    </tr>\n",
       "    <tr>\n",
       "      <th>495</th>\n",
       "      <td>228.0</td>\n",
       "      <td>37500.0</td>\n",
       "      <td>36184.0</td>\n",
       "      <td>108</td>\n",
       "      <td>Circular</td>\n",
       "      <td>RCP</td>\n",
       "      <td>212.5</td>\n",
       "      <td>30</td>\n",
       "      <td>0.00</td>\n",
       "      <td>SRP</td>\n",
       "      <td>NaN</td>\n",
       "      <td>DC</td>\n",
       "      <td>4</td>\n",
       "      <td>9</td>\n",
       "    </tr>\n",
       "    <tr>\n",
       "      <th>496</th>\n",
       "      <td>228.5</td>\n",
       "      <td>37500.0</td>\n",
       "      <td>36184.0</td>\n",
       "      <td>108</td>\n",
       "      <td>Circular</td>\n",
       "      <td>RCP</td>\n",
       "      <td>212.5</td>\n",
       "      <td>30</td>\n",
       "      <td>0.00</td>\n",
       "      <td>SRP</td>\n",
       "      <td>NaN</td>\n",
       "      <td>DC</td>\n",
       "      <td>4</td>\n",
       "      <td>9</td>\n",
       "    </tr>\n",
       "  </tbody>\n",
       "</table>\n",
       "<p>497 rows × 14 columns</p>\n",
       "</div>"
      ],
      "text/plain": [
       "     Seg_ID    UP_MH    DS_MH  Dia_Inch     Shape Material  Length_Ft  MWL  \\\n",
       "0       1.0    118.2    117.0        30  Circular      RCP      222.0   55   \n",
       "1       1.5    118.2    117.0        30  Circular      RCP      222.0   55   \n",
       "2       2.0    117.0    116.0        30  Circular      RCP      248.0   25   \n",
       "3       2.5    117.0    116.0        30  Circular      RCP      248.0   25   \n",
       "4       3.0    116.0    115.8        30  Circular      RCP      209.0   25   \n",
       "..      ...      ...      ...       ...       ...      ...        ...  ...   \n",
       "492   225.0  36206.0  36207.0        60  Circular      DIP      200.0   95   \n",
       "493   226.0  36206.0  36207.0        42  Circular      DIP      200.0   95   \n",
       "494   227.0  36184.0  36184.5       108  Circular      RCP      341.0   30   \n",
       "495   228.0  37500.0  36184.0       108  Circular      RCP      212.5   30   \n",
       "496   228.5  37500.0  36184.0       108  Circular      RCP      212.5   30   \n",
       "\n",
       "       DS defects Video Quality   Jurisdiction  risk score  Inspection_cycle  \n",
       "0    0.12     SAV          Good  Dulles Aiport           5                 1  \n",
       "1    0.12     SAV          Good  Dulles Aiport           5                 1  \n",
       "2    0.20     SAV          Good  Dulles Aiport           2                 9  \n",
       "3    0.20     SAV          Good  Dulles Aiport           2                 9  \n",
       "4    0.00     SAV          Good  Dulles Aiport           2                 9  \n",
       "..    ...     ...           ...            ...         ...               ...  \n",
       "492  0.00     SRC          Poor             DC           5                 1  \n",
       "493  0.00     SAV          Poor             DC           1                 3  \n",
       "494  0.00     SRP           NaN             DC           4                 9  \n",
       "495  0.00     SRP           NaN             DC           4                 9  \n",
       "496  0.00     SRP           NaN             DC           4                 9  \n",
       "\n",
       "[497 rows x 14 columns]"
      ]
     },
     "execution_count": 2,
     "metadata": {},
     "output_type": "execute_result"
    }
   ],
   "source": [
    "# Read the CSV file into a Pandas DataFrame\n",
    "df = pd.read_csv(\n",
    "    Path('../2_resource/ml_inspection_data/InspectionList3.csv')   \n",
    ")\n",
    "\n",
    "# Review the DataFrame\n",
    "df"
   ]
  },
  {
   "cell_type": "markdown",
   "metadata": {},
   "source": [
    "### 2. Separate the features `X` from the target `y`"
   ]
  },
  {
   "cell_type": "code",
   "execution_count": 3,
   "metadata": {},
   "outputs": [],
   "source": [
    "# Seperate the features, X,  from the target variable, y\n",
    "y = df['risk score']\n",
    "X = df.drop(columns='risk score')"
   ]
  },
  {
   "cell_type": "code",
   "execution_count": 4,
   "metadata": {},
   "outputs": [
    {
     "data": {
      "text/html": [
       "<div>\n",
       "<style scoped>\n",
       "    .dataframe tbody tr th:only-of-type {\n",
       "        vertical-align: middle;\n",
       "    }\n",
       "\n",
       "    .dataframe tbody tr th {\n",
       "        vertical-align: top;\n",
       "    }\n",
       "\n",
       "    .dataframe thead th {\n",
       "        text-align: right;\n",
       "    }\n",
       "</style>\n",
       "<table border=\"1\" class=\"dataframe\">\n",
       "  <thead>\n",
       "    <tr style=\"text-align: right;\">\n",
       "      <th></th>\n",
       "      <th>Seg_ID</th>\n",
       "      <th>UP_MH</th>\n",
       "      <th>DS_MH</th>\n",
       "      <th>Dia_Inch</th>\n",
       "      <th>Shape</th>\n",
       "      <th>Material</th>\n",
       "      <th>Length_Ft</th>\n",
       "      <th>MWL</th>\n",
       "      <th>DS</th>\n",
       "      <th>defects</th>\n",
       "      <th>Video Quality</th>\n",
       "      <th>Jurisdiction</th>\n",
       "      <th>Inspection_cycle</th>\n",
       "    </tr>\n",
       "  </thead>\n",
       "  <tbody>\n",
       "    <tr>\n",
       "      <th>0</th>\n",
       "      <td>1.0</td>\n",
       "      <td>118.2</td>\n",
       "      <td>117.0</td>\n",
       "      <td>30</td>\n",
       "      <td>Circular</td>\n",
       "      <td>RCP</td>\n",
       "      <td>222.0</td>\n",
       "      <td>55</td>\n",
       "      <td>0.12</td>\n",
       "      <td>SAV</td>\n",
       "      <td>Good</td>\n",
       "      <td>Dulles Aiport</td>\n",
       "      <td>1</td>\n",
       "    </tr>\n",
       "    <tr>\n",
       "      <th>1</th>\n",
       "      <td>1.5</td>\n",
       "      <td>118.2</td>\n",
       "      <td>117.0</td>\n",
       "      <td>30</td>\n",
       "      <td>Circular</td>\n",
       "      <td>RCP</td>\n",
       "      <td>222.0</td>\n",
       "      <td>55</td>\n",
       "      <td>0.12</td>\n",
       "      <td>SAV</td>\n",
       "      <td>Good</td>\n",
       "      <td>Dulles Aiport</td>\n",
       "      <td>1</td>\n",
       "    </tr>\n",
       "    <tr>\n",
       "      <th>2</th>\n",
       "      <td>2.0</td>\n",
       "      <td>117.0</td>\n",
       "      <td>116.0</td>\n",
       "      <td>30</td>\n",
       "      <td>Circular</td>\n",
       "      <td>RCP</td>\n",
       "      <td>248.0</td>\n",
       "      <td>25</td>\n",
       "      <td>0.20</td>\n",
       "      <td>SAV</td>\n",
       "      <td>Good</td>\n",
       "      <td>Dulles Aiport</td>\n",
       "      <td>9</td>\n",
       "    </tr>\n",
       "    <tr>\n",
       "      <th>3</th>\n",
       "      <td>2.5</td>\n",
       "      <td>117.0</td>\n",
       "      <td>116.0</td>\n",
       "      <td>30</td>\n",
       "      <td>Circular</td>\n",
       "      <td>RCP</td>\n",
       "      <td>248.0</td>\n",
       "      <td>25</td>\n",
       "      <td>0.20</td>\n",
       "      <td>SAV</td>\n",
       "      <td>Good</td>\n",
       "      <td>Dulles Aiport</td>\n",
       "      <td>9</td>\n",
       "    </tr>\n",
       "    <tr>\n",
       "      <th>4</th>\n",
       "      <td>3.0</td>\n",
       "      <td>116.0</td>\n",
       "      <td>115.8</td>\n",
       "      <td>30</td>\n",
       "      <td>Circular</td>\n",
       "      <td>RCP</td>\n",
       "      <td>209.0</td>\n",
       "      <td>25</td>\n",
       "      <td>0.00</td>\n",
       "      <td>SAV</td>\n",
       "      <td>Good</td>\n",
       "      <td>Dulles Aiport</td>\n",
       "      <td>9</td>\n",
       "    </tr>\n",
       "  </tbody>\n",
       "</table>\n",
       "</div>"
      ],
      "text/plain": [
       "   Seg_ID  UP_MH  DS_MH  Dia_Inch     Shape Material  Length_Ft  MWL    DS  \\\n",
       "0     1.0  118.2  117.0        30  Circular      RCP      222.0   55  0.12   \n",
       "1     1.5  118.2  117.0        30  Circular      RCP      222.0   55  0.12   \n",
       "2     2.0  117.0  116.0        30  Circular      RCP      248.0   25  0.20   \n",
       "3     2.5  117.0  116.0        30  Circular      RCP      248.0   25  0.20   \n",
       "4     3.0  116.0  115.8        30  Circular      RCP      209.0   25  0.00   \n",
       "\n",
       "  defects Video Quality   Jurisdiction  Inspection_cycle  \n",
       "0     SAV          Good  Dulles Aiport                 1  \n",
       "1     SAV          Good  Dulles Aiport                 1  \n",
       "2     SAV          Good  Dulles Aiport                 9  \n",
       "3     SAV          Good  Dulles Aiport                 9  \n",
       "4     SAV          Good  Dulles Aiport                 9  "
      ]
     },
     "execution_count": 4,
     "metadata": {},
     "output_type": "execute_result"
    }
   ],
   "source": [
    "# Preview the features data\n",
    "X.head()"
   ]
  },
  {
   "cell_type": "code",
   "execution_count": 5,
   "metadata": {},
   "outputs": [
    {
     "data": {
      "text/plain": [
       "risk score\n",
       "2    170\n",
       "3    150\n",
       "4     69\n",
       "1     64\n",
       "5     44\n",
       "Name: count, dtype: int64"
      ]
     },
     "execution_count": 5,
     "metadata": {},
     "output_type": "execute_result"
    }
   ],
   "source": [
    "y.value_counts()"
   ]
  },
  {
   "cell_type": "code",
   "execution_count": 6,
   "metadata": {},
   "outputs": [
    {
     "data": {
      "text/plain": [
       "0    5\n",
       "1    5\n",
       "2    2\n",
       "3    2\n",
       "4    2\n",
       "5    2\n",
       "6    2\n",
       "7    2\n",
       "8    3\n",
       "9    3\n",
       "Name: risk score, dtype: int64"
      ]
     },
     "execution_count": 6,
     "metadata": {},
     "output_type": "execute_result"
    }
   ],
   "source": [
    "# Preview the first five entries for the target variable\n",
    "y[:10]"
   ]
  },
  {
   "cell_type": "markdown",
   "metadata": {},
   "source": [
    "### 3. Encode the categorical variables from the features data using `get_dummies`."
   ]
  },
  {
   "cell_type": "code",
   "execution_count": 7,
   "metadata": {},
   "outputs": [],
   "source": [
    "# Encode the categorical variables using get_dummies\n",
    "X = pd.get_dummies(X)"
   ]
  },
  {
   "cell_type": "code",
   "execution_count": 8,
   "metadata": {},
   "outputs": [
    {
     "data": {
      "text/html": [
       "<div>\n",
       "<style scoped>\n",
       "    .dataframe tbody tr th:only-of-type {\n",
       "        vertical-align: middle;\n",
       "    }\n",
       "\n",
       "    .dataframe tbody tr th {\n",
       "        vertical-align: top;\n",
       "    }\n",
       "\n",
       "    .dataframe thead th {\n",
       "        text-align: right;\n",
       "    }\n",
       "</style>\n",
       "<table border=\"1\" class=\"dataframe\">\n",
       "  <thead>\n",
       "    <tr style=\"text-align: right;\">\n",
       "      <th></th>\n",
       "      <th>Seg_ID</th>\n",
       "      <th>UP_MH</th>\n",
       "      <th>DS_MH</th>\n",
       "      <th>Dia_Inch</th>\n",
       "      <th>Length_Ft</th>\n",
       "      <th>MWL</th>\n",
       "      <th>DS</th>\n",
       "      <th>Inspection_cycle</th>\n",
       "      <th>Shape_Arched</th>\n",
       "      <th>Shape_C</th>\n",
       "      <th>...</th>\n",
       "      <th>Video Quality_Good</th>\n",
       "      <th>Video Quality_Poor</th>\n",
       "      <th>Jurisdiction_DC</th>\n",
       "      <th>Jurisdiction_Difficult Run</th>\n",
       "      <th>Jurisdiction_Dulles Aiport</th>\n",
       "      <th>Jurisdiction_Loudoun</th>\n",
       "      <th>Jurisdiction_MD, CB, PKWY</th>\n",
       "      <th>Jurisdiction_Sugarland run</th>\n",
       "      <th>Jurisdiction_VA, Great Falls</th>\n",
       "      <th>Jurisdiction_Watts&amp;muddy</th>\n",
       "    </tr>\n",
       "  </thead>\n",
       "  <tbody>\n",
       "    <tr>\n",
       "      <th>0</th>\n",
       "      <td>1.0</td>\n",
       "      <td>118.2</td>\n",
       "      <td>117.0</td>\n",
       "      <td>30</td>\n",
       "      <td>222.0</td>\n",
       "      <td>55</td>\n",
       "      <td>0.12</td>\n",
       "      <td>1</td>\n",
       "      <td>False</td>\n",
       "      <td>False</td>\n",
       "      <td>...</td>\n",
       "      <td>True</td>\n",
       "      <td>False</td>\n",
       "      <td>False</td>\n",
       "      <td>False</td>\n",
       "      <td>True</td>\n",
       "      <td>False</td>\n",
       "      <td>False</td>\n",
       "      <td>False</td>\n",
       "      <td>False</td>\n",
       "      <td>False</td>\n",
       "    </tr>\n",
       "    <tr>\n",
       "      <th>1</th>\n",
       "      <td>1.5</td>\n",
       "      <td>118.2</td>\n",
       "      <td>117.0</td>\n",
       "      <td>30</td>\n",
       "      <td>222.0</td>\n",
       "      <td>55</td>\n",
       "      <td>0.12</td>\n",
       "      <td>1</td>\n",
       "      <td>False</td>\n",
       "      <td>False</td>\n",
       "      <td>...</td>\n",
       "      <td>True</td>\n",
       "      <td>False</td>\n",
       "      <td>False</td>\n",
       "      <td>False</td>\n",
       "      <td>True</td>\n",
       "      <td>False</td>\n",
       "      <td>False</td>\n",
       "      <td>False</td>\n",
       "      <td>False</td>\n",
       "      <td>False</td>\n",
       "    </tr>\n",
       "    <tr>\n",
       "      <th>2</th>\n",
       "      <td>2.0</td>\n",
       "      <td>117.0</td>\n",
       "      <td>116.0</td>\n",
       "      <td>30</td>\n",
       "      <td>248.0</td>\n",
       "      <td>25</td>\n",
       "      <td>0.20</td>\n",
       "      <td>9</td>\n",
       "      <td>False</td>\n",
       "      <td>False</td>\n",
       "      <td>...</td>\n",
       "      <td>True</td>\n",
       "      <td>False</td>\n",
       "      <td>False</td>\n",
       "      <td>False</td>\n",
       "      <td>True</td>\n",
       "      <td>False</td>\n",
       "      <td>False</td>\n",
       "      <td>False</td>\n",
       "      <td>False</td>\n",
       "      <td>False</td>\n",
       "    </tr>\n",
       "    <tr>\n",
       "      <th>3</th>\n",
       "      <td>2.5</td>\n",
       "      <td>117.0</td>\n",
       "      <td>116.0</td>\n",
       "      <td>30</td>\n",
       "      <td>248.0</td>\n",
       "      <td>25</td>\n",
       "      <td>0.20</td>\n",
       "      <td>9</td>\n",
       "      <td>False</td>\n",
       "      <td>False</td>\n",
       "      <td>...</td>\n",
       "      <td>True</td>\n",
       "      <td>False</td>\n",
       "      <td>False</td>\n",
       "      <td>False</td>\n",
       "      <td>True</td>\n",
       "      <td>False</td>\n",
       "      <td>False</td>\n",
       "      <td>False</td>\n",
       "      <td>False</td>\n",
       "      <td>False</td>\n",
       "    </tr>\n",
       "    <tr>\n",
       "      <th>4</th>\n",
       "      <td>3.0</td>\n",
       "      <td>116.0</td>\n",
       "      <td>115.8</td>\n",
       "      <td>30</td>\n",
       "      <td>209.0</td>\n",
       "      <td>25</td>\n",
       "      <td>0.00</td>\n",
       "      <td>9</td>\n",
       "      <td>False</td>\n",
       "      <td>False</td>\n",
       "      <td>...</td>\n",
       "      <td>True</td>\n",
       "      <td>False</td>\n",
       "      <td>False</td>\n",
       "      <td>False</td>\n",
       "      <td>True</td>\n",
       "      <td>False</td>\n",
       "      <td>False</td>\n",
       "      <td>False</td>\n",
       "      <td>False</td>\n",
       "      <td>False</td>\n",
       "    </tr>\n",
       "  </tbody>\n",
       "</table>\n",
       "<p>5 rows × 34 columns</p>\n",
       "</div>"
      ],
      "text/plain": [
       "   Seg_ID  UP_MH  DS_MH  Dia_Inch  Length_Ft  MWL    DS  Inspection_cycle  \\\n",
       "0     1.0  118.2  117.0        30      222.0   55  0.12                 1   \n",
       "1     1.5  118.2  117.0        30      222.0   55  0.12                 1   \n",
       "2     2.0  117.0  116.0        30      248.0   25  0.20                 9   \n",
       "3     2.5  117.0  116.0        30      248.0   25  0.20                 9   \n",
       "4     3.0  116.0  115.8        30      209.0   25  0.00                 9   \n",
       "\n",
       "   Shape_Arched  Shape_C  ...  Video Quality_Good  Video Quality_Poor  \\\n",
       "0         False    False  ...                True               False   \n",
       "1         False    False  ...                True               False   \n",
       "2         False    False  ...                True               False   \n",
       "3         False    False  ...                True               False   \n",
       "4         False    False  ...                True               False   \n",
       "\n",
       "   Jurisdiction_DC  Jurisdiction_Difficult Run  Jurisdiction_Dulles Aiport  \\\n",
       "0            False                       False                        True   \n",
       "1            False                       False                        True   \n",
       "2            False                       False                        True   \n",
       "3            False                       False                        True   \n",
       "4            False                       False                        True   \n",
       "\n",
       "   Jurisdiction_Loudoun  Jurisdiction_MD, CB, PKWY  \\\n",
       "0                 False                      False   \n",
       "1                 False                      False   \n",
       "2                 False                      False   \n",
       "3                 False                      False   \n",
       "4                 False                      False   \n",
       "\n",
       "   Jurisdiction_Sugarland run  Jurisdiction_VA, Great Falls  \\\n",
       "0                       False                         False   \n",
       "1                       False                         False   \n",
       "2                       False                         False   \n",
       "3                       False                         False   \n",
       "4                       False                         False   \n",
       "\n",
       "   Jurisdiction_Watts&muddy  \n",
       "0                     False  \n",
       "1                     False  \n",
       "2                     False  \n",
       "3                     False  \n",
       "4                     False  \n",
       "\n",
       "[5 rows x 34 columns]"
      ]
     },
     "execution_count": 8,
     "metadata": {},
     "output_type": "execute_result"
    }
   ],
   "source": [
    "# Review the features data\n",
    "X.head()"
   ]
  },
  {
   "cell_type": "markdown",
   "metadata": {},
   "source": [
    "### 4. Separate the data into training and testing subsets."
   ]
  },
  {
   "cell_type": "code",
   "execution_count": 9,
   "metadata": {},
   "outputs": [],
   "source": [
    "# Split the dataset using train_test_split\n",
    "X_train, X_test, y_train, y_test = train_test_split(X, y, random_state=1)"
   ]
  },
  {
   "cell_type": "markdown",
   "metadata": {},
   "source": [
    "### 5. Scale the data using `StandardScaler`"
   ]
  },
  {
   "cell_type": "code",
   "execution_count": 10,
   "metadata": {},
   "outputs": [],
   "source": [
    "# Instantiate a StandardScaler instance\n",
    "scaler = StandardScaler()\n",
    "\n",
    "# Fit the training data to the standard scaler\n",
    "X_scaler = scaler.fit(X_train)\n",
    "\n",
    "# Transform the training data using the scaler\n",
    "X_train_scaled = X_scaler.transform(X_train)\n",
    "\n",
    "# Transform the testing data using the scaler\n",
    "X_test_scaled = X_scaler.transform(X_test)"
   ]
  },
  {
   "cell_type": "markdown",
   "metadata": {},
   "source": [
    "### 6. Instantiate an K Nearest Neighbor Classifier instance."
   ]
  },
  {
   "cell_type": "code",
   "execution_count": 11,
   "metadata": {},
   "outputs": [],
   "source": [
    "# Import the KNeighborsClassifier module from sklearn\n",
    "from sklearn.neighbors import KNeighborsClassifier\n",
    "\n",
    "# Instantiate the KNeighborsClassifier model with n_neighbors = 3 \n",
    "knn = KNeighborsClassifier(n_neighbors=3)"
   ]
  },
  {
   "cell_type": "markdown",
   "metadata": {},
   "source": [
    "### 7. Fit the model using the training data."
   ]
  },
  {
   "cell_type": "code",
   "execution_count": 12,
   "metadata": {},
   "outputs": [
    {
     "data": {
      "text/html": [
       "<style>#sk-container-id-1 {color: black;background-color: white;}#sk-container-id-1 pre{padding: 0;}#sk-container-id-1 div.sk-toggleable {background-color: white;}#sk-container-id-1 label.sk-toggleable__label {cursor: pointer;display: block;width: 100%;margin-bottom: 0;padding: 0.3em;box-sizing: border-box;text-align: center;}#sk-container-id-1 label.sk-toggleable__label-arrow:before {content: \"▸\";float: left;margin-right: 0.25em;color: #696969;}#sk-container-id-1 label.sk-toggleable__label-arrow:hover:before {color: black;}#sk-container-id-1 div.sk-estimator:hover label.sk-toggleable__label-arrow:before {color: black;}#sk-container-id-1 div.sk-toggleable__content {max-height: 0;max-width: 0;overflow: hidden;text-align: left;background-color: #f0f8ff;}#sk-container-id-1 div.sk-toggleable__content pre {margin: 0.2em;color: black;border-radius: 0.25em;background-color: #f0f8ff;}#sk-container-id-1 input.sk-toggleable__control:checked~div.sk-toggleable__content {max-height: 200px;max-width: 100%;overflow: auto;}#sk-container-id-1 input.sk-toggleable__control:checked~label.sk-toggleable__label-arrow:before {content: \"▾\";}#sk-container-id-1 div.sk-estimator input.sk-toggleable__control:checked~label.sk-toggleable__label {background-color: #d4ebff;}#sk-container-id-1 div.sk-label input.sk-toggleable__control:checked~label.sk-toggleable__label {background-color: #d4ebff;}#sk-container-id-1 input.sk-hidden--visually {border: 0;clip: rect(1px 1px 1px 1px);clip: rect(1px, 1px, 1px, 1px);height: 1px;margin: -1px;overflow: hidden;padding: 0;position: absolute;width: 1px;}#sk-container-id-1 div.sk-estimator {font-family: monospace;background-color: #f0f8ff;border: 1px dotted black;border-radius: 0.25em;box-sizing: border-box;margin-bottom: 0.5em;}#sk-container-id-1 div.sk-estimator:hover {background-color: #d4ebff;}#sk-container-id-1 div.sk-parallel-item::after {content: \"\";width: 100%;border-bottom: 1px solid gray;flex-grow: 1;}#sk-container-id-1 div.sk-label:hover label.sk-toggleable__label {background-color: #d4ebff;}#sk-container-id-1 div.sk-serial::before {content: \"\";position: absolute;border-left: 1px solid gray;box-sizing: border-box;top: 0;bottom: 0;left: 50%;z-index: 0;}#sk-container-id-1 div.sk-serial {display: flex;flex-direction: column;align-items: center;background-color: white;padding-right: 0.2em;padding-left: 0.2em;position: relative;}#sk-container-id-1 div.sk-item {position: relative;z-index: 1;}#sk-container-id-1 div.sk-parallel {display: flex;align-items: stretch;justify-content: center;background-color: white;position: relative;}#sk-container-id-1 div.sk-item::before, #sk-container-id-1 div.sk-parallel-item::before {content: \"\";position: absolute;border-left: 1px solid gray;box-sizing: border-box;top: 0;bottom: 0;left: 50%;z-index: -1;}#sk-container-id-1 div.sk-parallel-item {display: flex;flex-direction: column;z-index: 1;position: relative;background-color: white;}#sk-container-id-1 div.sk-parallel-item:first-child::after {align-self: flex-end;width: 50%;}#sk-container-id-1 div.sk-parallel-item:last-child::after {align-self: flex-start;width: 50%;}#sk-container-id-1 div.sk-parallel-item:only-child::after {width: 0;}#sk-container-id-1 div.sk-dashed-wrapped {border: 1px dashed gray;margin: 0 0.4em 0.5em 0.4em;box-sizing: border-box;padding-bottom: 0.4em;background-color: white;}#sk-container-id-1 div.sk-label label {font-family: monospace;font-weight: bold;display: inline-block;line-height: 1.2em;}#sk-container-id-1 div.sk-label-container {text-align: center;}#sk-container-id-1 div.sk-container {/* jupyter's `normalize.less` sets `[hidden] { display: none; }` but bootstrap.min.css set `[hidden] { display: none !important; }` so we also need the `!important` here to be able to override the default hidden behavior on the sphinx rendered scikit-learn.org. See: https://github.com/scikit-learn/scikit-learn/issues/21755 */display: inline-block !important;position: relative;}#sk-container-id-1 div.sk-text-repr-fallback {display: none;}</style><div id=\"sk-container-id-1\" class=\"sk-top-container\"><div class=\"sk-text-repr-fallback\"><pre>KNeighborsClassifier(n_neighbors=3)</pre><b>In a Jupyter environment, please rerun this cell to show the HTML representation or trust the notebook. <br />On GitHub, the HTML representation is unable to render, please try loading this page with nbviewer.org.</b></div><div class=\"sk-container\" hidden><div class=\"sk-item\"><div class=\"sk-estimator sk-toggleable\"><input class=\"sk-toggleable__control sk-hidden--visually\" id=\"sk-estimator-id-1\" type=\"checkbox\" checked><label for=\"sk-estimator-id-1\" class=\"sk-toggleable__label sk-toggleable__label-arrow\">KNeighborsClassifier</label><div class=\"sk-toggleable__content\"><pre>KNeighborsClassifier(n_neighbors=3)</pre></div></div></div></div></div>"
      ],
      "text/plain": [
       "KNeighborsClassifier(n_neighbors=3)"
      ]
     },
     "execution_count": 12,
     "metadata": {},
     "output_type": "execute_result"
    }
   ],
   "source": [
    "# Train the model using the training data\n",
    "knn.fit(X_train_scaled, y_train)"
   ]
  },
  {
   "cell_type": "markdown",
   "metadata": {},
   "source": [
    "### 8. Make predictions using the testing data."
   ]
  },
  {
   "cell_type": "code",
   "execution_count": 13,
   "metadata": {},
   "outputs": [],
   "source": [
    "# Create predictions using the testing data\n",
    "y_pred = knn.predict(X_test_scaled)"
   ]
  },
  {
   "cell_type": "markdown",
   "metadata": {},
   "source": [
    "### 9. Generate the classification report for the test data."
   ]
  },
  {
   "cell_type": "code",
   "execution_count": 14,
   "metadata": {},
   "outputs": [
    {
     "name": "stdout",
     "output_type": "stream",
     "text": [
      "              precision    recall  f1-score   support\n",
      "\n",
      "           1       0.94      1.00      0.97        15\n",
      "           2       0.70      0.78      0.74        45\n",
      "           3       0.67      0.83      0.74        36\n",
      "           4       0.82      0.47      0.60        19\n",
      "           5       1.00      0.30      0.46        10\n",
      "\n",
      "    accuracy                           0.74       125\n",
      "   macro avg       0.82      0.68      0.70       125\n",
      "weighted avg       0.76      0.74      0.72       125\n",
      "\n"
     ]
    }
   ],
   "source": [
    "# Print the classification report comparing the testing data to the model predictions\n",
    "print(classification_report(y_test, y_pred))"
   ]
  },
  {
   "cell_type": "code",
   "execution_count": 15,
   "metadata": {},
   "outputs": [
    {
     "name": "stdout",
     "output_type": "stream",
     "text": [
      "confusion Matrix: \n",
      " [[15  0  0  0  0]\n",
      " [ 0 35  9  1  0]\n",
      " [ 0  6 30  0  0]\n",
      " [ 0  8  2  9  0]\n",
      " [ 1  1  4  1  3]]\n",
      "Accuracy: 0.736\n"
     ]
    }
   ],
   "source": [
    "# Calculating the confusion matrix\n",
    "cm = confusion_matrix(y_test, y_pred)\n",
    "\n",
    "# Calculating the accuracy score\n",
    "acc_score = accuracy_score(y_test, y_pred)\n",
    "print(f\"confusion Matrix: \\n {cm}\")\n",
    "print(f\"Accuracy: {acc_score}\")"
   ]
  },
  {
   "cell_type": "code",
   "execution_count": 16,
   "metadata": {},
   "outputs": [
    {
     "name": "stdout",
     "output_type": "stream",
     "text": [
      "Resampled dataset shape Counter({1: 125, 2: 125, 3: 125, 5: 125, 4: 125})\n"
     ]
    }
   ],
   "source": [
    "from collections import Counter\n",
    "from imblearn.over_sampling import SMOTE\n",
    "sm = SMOTE(random_state=42)\n",
    "X_res, y_res = sm.fit_resample(X_train_scaled, y_train)\n",
    "print('Resampled dataset shape %s' % Counter(y_res))"
   ]
  },
  {
   "cell_type": "code",
   "execution_count": 17,
   "metadata": {},
   "outputs": [
    {
     "name": "stdout",
     "output_type": "stream",
     "text": [
      "              precision    recall  f1-score   support\n",
      "\n",
      "           1       1.00      1.00      1.00        15\n",
      "           2       0.73      0.78      0.75        45\n",
      "           3       0.72      0.86      0.78        36\n",
      "           4       0.83      0.53      0.65        19\n",
      "           5       0.86      0.60      0.71        10\n",
      "\n",
      "    accuracy                           0.78       125\n",
      "   macro avg       0.83      0.75      0.78       125\n",
      "weighted avg       0.79      0.78      0.77       125\n",
      "\n"
     ]
    }
   ],
   "source": [
    "knn = KNeighborsClassifier(n_neighbors=3)\n",
    "knn.fit(X_res, y_res)\n",
    "y_pred = knn.predict(X_test_scaled)\n",
    "print(classification_report(y_test, y_pred))"
   ]
  },
  {
   "cell_type": "code",
   "execution_count": 18,
   "metadata": {},
   "outputs": [
    {
     "name": "stdout",
     "output_type": "stream",
     "text": [
      "confusion Matrix: \n",
      " [[15  0  0  0  0]\n",
      " [ 0 35  9  1  0]\n",
      " [ 0  5 31  0  0]\n",
      " [ 0  7  1 10  1]\n",
      " [ 0  1  2  1  6]]\n",
      "Accuracy: 0.776\n"
     ]
    }
   ],
   "source": [
    "# Calculating the confusion matrix\n",
    "cm2 = confusion_matrix(y_test, y_pred)\n",
    "\n",
    "# Calculating the accuracy score\n",
    "acc_score = accuracy_score(y_test, y_pred)\n",
    "print(f\"confusion Matrix: \\n {cm2}\")\n",
    "print(f\"Accuracy: {acc_score}\")"
   ]
  },
  {
   "cell_type": "markdown",
   "metadata": {},
   "source": [
    "## Feature Importance"
   ]
  },
  {
   "cell_type": "code",
   "execution_count": 21,
   "metadata": {},
   "outputs": [],
   "source": [
    "from sklearn.ensemble import RandomForestClassifier"
   ]
  },
  {
   "cell_type": "code",
   "execution_count": 22,
   "metadata": {},
   "outputs": [],
   "source": [
    "rf_model = RandomForestClassifier(n_estimators=500, random_state=78)"
   ]
  },
  {
   "cell_type": "code",
   "execution_count": 24,
   "metadata": {},
   "outputs": [],
   "source": [
    "# Fitting the model\n",
    "rf_model = rf_model.fit(X_train_scaled, y_train)"
   ]
  },
  {
   "cell_type": "code",
   "execution_count": 25,
   "metadata": {},
   "outputs": [
    {
     "data": {
      "text/plain": [
       "[(0.151880440445677, 'Seg_ID'),\n",
       " (0.1351558577512984, 'Inspection_cycle'),\n",
       " (0.12122322801182442, 'DS_MH'),\n",
       " (0.11730556931450951, 'UP_MH'),\n",
       " (0.09413821739342199, 'Length_Ft'),\n",
       " (0.06669630110431853, 'Dia_Inch'),\n",
       " (0.05779296537058442, 'MWL'),\n",
       " (0.030483663100776916, 'defects_SRP'),\n",
       " (0.029045119310153047, 'defects_SAM'),\n",
       " (0.026428046126059913, 'defects_SAV'),\n",
       " (0.025407011583989888, 'DS'),\n",
       " (0.015442131589349303, 'Video Quality_Poor'),\n",
       " (0.014448041140389447, 'defects_SAP'),\n",
       " (0.014181877733154886, 'defects_SRC'),\n",
       " (0.011676227854596752, 'Video Quality_Good'),\n",
       " (0.010885423429649696, 'defects_SRV'),\n",
       " (0.010344951034227862, 'Jurisdiction_Loudoun'),\n",
       " (0.009441087787802024, 'Jurisdiction_Watts&muddy'),\n",
       " (0.008359215507416995, 'Jurisdiction_MD, CB, PKWY'),\n",
       " (0.00832785380265821, 'Jurisdiction_Dulles Aiport'),\n",
       " (0.008000131847835056, 'Jurisdiction_Sugarland run'),\n",
       " (0.007649311998575468, 'Jurisdiction_Difficult Run'),\n",
       " (0.005314737833426905, 'Shape_Circular'),\n",
       " (0.005114791731273294, 'Shape_C'),\n",
       " (0.004808082154508229, 'Jurisdiction_DC'),\n",
       " (0.003659843783744497, 'Jurisdiction_VA, Great Falls'),\n",
       " (0.0015823694568754024, 'Shape_Arched'),\n",
       " (0.001254254408452168, 'Material_RCP'),\n",
       " (0.0011395500275383638, 'Shape_Other'),\n",
       " (0.0007140022305058185, 'defects_SAV, H'),\n",
       " (0.0006248847086413197, 'Material_zzz'),\n",
       " (0.0005665296362308036, 'defects_SAV, IG'),\n",
       " (0.0004899585370172701, 'Material_DIP'),\n",
       " (0.00041832225351612936, 'Material_PE')]"
      ]
     },
     "execution_count": 25,
     "metadata": {},
     "output_type": "execute_result"
    }
   ],
   "source": [
    "# Random Forests in sklearn will automatically calculate feature importance\n",
    "importances = rf_model.feature_importances_\n",
    "# We can sort the features by their importance\n",
    "sorted(zip(rf_model.feature_importances_, X.columns), reverse=True)"
   ]
  },
  {
   "cell_type": "code",
   "execution_count": 26,
   "metadata": {},
   "outputs": [
    {
     "data": {
      "text/plain": [
       "<Axes: title={'center': 'Features Importances'}, ylabel='1'>"
      ]
     },
     "execution_count": 26,
     "metadata": {},
     "output_type": "execute_result"
    },
    {
     "data": {
      "image/png": "[encoded data removed]",
      "text/plain": [
       "<Figure size 640x480 with 1 Axes>"
      ]
     },
     "metadata": {},
     "output_type": "display_data"
    }
   ],
   "source": [
    "# Visualize the features by importance\n",
    "importances_df = pd.DataFrame(sorted(zip(rf_model.feature_importances_, X.columns), reverse=True))\n",
    "importances_df.set_index(importances_df[1], inplace=True)\n",
    "importances_df.drop(columns=1, inplace=True)\n",
    "importances_df.rename(columns={0: 'Feature Importances'}, inplace=True)\n",
    "importances_sorted = importances_df.sort_values(by='Feature Importances')\n",
    "importances_sorted.plot(kind='barh', color='lightgreen', title= 'Features Importances', legend=False)"
   ]
  },
  {
   "cell_type": "code",
   "execution_count": null,
   "metadata": {},
   "outputs": [],
   "source": []
  }
 ],
 "metadata": {
  "kernelspec": {
   "display_name": "Python 3 (ipykernel)",
   "language": "python",
   "name": "python3"
  },
  "language_info": {
   "codemirror_mode": {
    "name": "ipython",
    "version": 3
   },
   "file_extension": ".py",
   "mimetype": "text/x-python",
   "name": "python",
   "nbconvert_exporter": "python",
   "pygments_lexer": "ipython3",
   "version": "3.10.13"
  }
 },
 "nbformat": 4,
 "nbformat_minor": 4
}
