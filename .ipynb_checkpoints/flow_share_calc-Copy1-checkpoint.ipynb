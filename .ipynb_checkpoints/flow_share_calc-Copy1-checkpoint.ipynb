{
 "cells": [
  {
   "cell_type": "code",
   "execution_count": 4,
   "id": "c551f526",
   "metadata": {},
   "outputs": [],
   "source": [
    "# Import Dependencies\n",
    "import os\n",
    "import pandas as pd\n",
    "from pathlib import Path\n",
    "import numpy as np"
   ]
  },
  {
   "cell_type": "code",
   "execution_count": 5,
   "id": "0fa07885",
   "metadata": {},
   "outputs": [
    {
     "ename": "FileNotFoundError",
     "evalue": "[Errno 2] No such file or directory: '..\\\\2_resource\\\\flow_data\\\\11.user_flow_fy2023.csv'",
     "output_type": "error",
     "traceback": [
      "\u001b[1;31m---------------------------------------------------------------------------\u001b[0m",
      "\u001b[1;31mFileNotFoundError\u001b[0m                         Traceback (most recent call last)",
      "Cell \u001b[1;32mIn[5], line 6\u001b[0m\n\u001b[0;32m      4\u001b[0m csv_path_suburb_flow \u001b[38;5;241m=\u001b[39m Path(\u001b[38;5;124m\"\u001b[39m\u001b[38;5;124m../2_resource/flow_data/8.PI_Suburban_Flow.csv\u001b[39m\u001b[38;5;124m\"\u001b[39m)\n\u001b[0;32m      5\u001b[0m csv_path_RouteData \u001b[38;5;241m=\u001b[39m Path(\u001b[38;5;124m\"\u001b[39m\u001b[38;5;124m../2_resource/flow_data/9.route_data.csv\u001b[39m\u001b[38;5;124m\"\u001b[39m)\n\u001b[1;32m----> 6\u001b[0m flow_2023 \u001b[38;5;241m=\u001b[39m \u001b[43mpd\u001b[49m\u001b[38;5;241;43m.\u001b[39;49m\u001b[43mread_csv\u001b[49m\u001b[43m(\u001b[49m\u001b[43mcsv_path_flow_2023\u001b[49m\u001b[43m,\u001b[49m\u001b[43m \u001b[49m\u001b[43mencoding\u001b[49m\u001b[38;5;241;43m=\u001b[39;49m\u001b[38;5;124;43m\"\u001b[39;49m\u001b[38;5;124;43mUTF-8\u001b[39;49m\u001b[38;5;124;43m\"\u001b[39;49m\u001b[43m)\u001b[49m  \n\u001b[0;32m      7\u001b[0m dist_flow \u001b[38;5;241m=\u001b[39m pd\u001b[38;5;241m.\u001b[39mread_csv(csv_path_dist_flow, encoding\u001b[38;5;241m=\u001b[39m\u001b[38;5;124m\"\u001b[39m\u001b[38;5;124mUTF-8\u001b[39m\u001b[38;5;124m\"\u001b[39m)                  \n\u001b[0;32m      8\u001b[0m VerificationFlow_2023 \u001b[38;5;241m=\u001b[39m pd\u001b[38;5;241m.\u001b[39mread_csv(csv_path_verif_flow, encoding\u001b[38;5;241m=\u001b[39m\u001b[38;5;124m\"\u001b[39m\u001b[38;5;124mUTF-8\u001b[39m\u001b[38;5;124m\"\u001b[39m)\n",
      "File \u001b[1;32m~\\anaconda3\\envs\\dev\\lib\\site-packages\\pandas\\io\\parsers\\readers.py:912\u001b[0m, in \u001b[0;36mread_csv\u001b[1;34m(filepath_or_buffer, sep, delimiter, header, names, index_col, usecols, dtype, engine, converters, true_values, false_values, skipinitialspace, skiprows, skipfooter, nrows, na_values, keep_default_na, na_filter, verbose, skip_blank_lines, parse_dates, infer_datetime_format, keep_date_col, date_parser, date_format, dayfirst, cache_dates, iterator, chunksize, compression, thousands, decimal, lineterminator, quotechar, quoting, doublequote, escapechar, comment, encoding, encoding_errors, dialect, on_bad_lines, delim_whitespace, low_memory, memory_map, float_precision, storage_options, dtype_backend)\u001b[0m\n\u001b[0;32m    899\u001b[0m kwds_defaults \u001b[38;5;241m=\u001b[39m _refine_defaults_read(\n\u001b[0;32m    900\u001b[0m     dialect,\n\u001b[0;32m    901\u001b[0m     delimiter,\n\u001b[1;32m   (...)\u001b[0m\n\u001b[0;32m    908\u001b[0m     dtype_backend\u001b[38;5;241m=\u001b[39mdtype_backend,\n\u001b[0;32m    909\u001b[0m )\n\u001b[0;32m    910\u001b[0m kwds\u001b[38;5;241m.\u001b[39mupdate(kwds_defaults)\n\u001b[1;32m--> 912\u001b[0m \u001b[38;5;28;01mreturn\u001b[39;00m \u001b[43m_read\u001b[49m\u001b[43m(\u001b[49m\u001b[43mfilepath_or_buffer\u001b[49m\u001b[43m,\u001b[49m\u001b[43m \u001b[49m\u001b[43mkwds\u001b[49m\u001b[43m)\u001b[49m\n",
      "File \u001b[1;32m~\\anaconda3\\envs\\dev\\lib\\site-packages\\pandas\\io\\parsers\\readers.py:577\u001b[0m, in \u001b[0;36m_read\u001b[1;34m(filepath_or_buffer, kwds)\u001b[0m\n\u001b[0;32m    574\u001b[0m _validate_names(kwds\u001b[38;5;241m.\u001b[39mget(\u001b[38;5;124m\"\u001b[39m\u001b[38;5;124mnames\u001b[39m\u001b[38;5;124m\"\u001b[39m, \u001b[38;5;28;01mNone\u001b[39;00m))\n\u001b[0;32m    576\u001b[0m \u001b[38;5;66;03m# Create the parser.\u001b[39;00m\n\u001b[1;32m--> 577\u001b[0m parser \u001b[38;5;241m=\u001b[39m TextFileReader(filepath_or_buffer, \u001b[38;5;241m*\u001b[39m\u001b[38;5;241m*\u001b[39mkwds)\n\u001b[0;32m    579\u001b[0m \u001b[38;5;28;01mif\u001b[39;00m chunksize \u001b[38;5;129;01mor\u001b[39;00m iterator:\n\u001b[0;32m    580\u001b[0m     \u001b[38;5;28;01mreturn\u001b[39;00m parser\n",
      "File \u001b[1;32m~\\anaconda3\\envs\\dev\\lib\\site-packages\\pandas\\io\\parsers\\readers.py:1407\u001b[0m, in \u001b[0;36mTextFileReader.__init__\u001b[1;34m(self, f, engine, **kwds)\u001b[0m\n\u001b[0;32m   1404\u001b[0m     \u001b[38;5;28mself\u001b[39m\u001b[38;5;241m.\u001b[39moptions[\u001b[38;5;124m\"\u001b[39m\u001b[38;5;124mhas_index_names\u001b[39m\u001b[38;5;124m\"\u001b[39m] \u001b[38;5;241m=\u001b[39m kwds[\u001b[38;5;124m\"\u001b[39m\u001b[38;5;124mhas_index_names\u001b[39m\u001b[38;5;124m\"\u001b[39m]\n\u001b[0;32m   1406\u001b[0m \u001b[38;5;28mself\u001b[39m\u001b[38;5;241m.\u001b[39mhandles: IOHandles \u001b[38;5;241m|\u001b[39m \u001b[38;5;28;01mNone\u001b[39;00m \u001b[38;5;241m=\u001b[39m \u001b[38;5;28;01mNone\u001b[39;00m\n\u001b[1;32m-> 1407\u001b[0m \u001b[38;5;28mself\u001b[39m\u001b[38;5;241m.\u001b[39m_engine \u001b[38;5;241m=\u001b[39m \u001b[38;5;28;43mself\u001b[39;49m\u001b[38;5;241;43m.\u001b[39;49m\u001b[43m_make_engine\u001b[49m\u001b[43m(\u001b[49m\u001b[43mf\u001b[49m\u001b[43m,\u001b[49m\u001b[43m \u001b[49m\u001b[38;5;28;43mself\u001b[39;49m\u001b[38;5;241;43m.\u001b[39;49m\u001b[43mengine\u001b[49m\u001b[43m)\u001b[49m\n",
      "File \u001b[1;32m~\\anaconda3\\envs\\dev\\lib\\site-packages\\pandas\\io\\parsers\\readers.py:1661\u001b[0m, in \u001b[0;36mTextFileReader._make_engine\u001b[1;34m(self, f, engine)\u001b[0m\n\u001b[0;32m   1659\u001b[0m     \u001b[38;5;28;01mif\u001b[39;00m \u001b[38;5;124m\"\u001b[39m\u001b[38;5;124mb\u001b[39m\u001b[38;5;124m\"\u001b[39m \u001b[38;5;129;01mnot\u001b[39;00m \u001b[38;5;129;01min\u001b[39;00m mode:\n\u001b[0;32m   1660\u001b[0m         mode \u001b[38;5;241m+\u001b[39m\u001b[38;5;241m=\u001b[39m \u001b[38;5;124m\"\u001b[39m\u001b[38;5;124mb\u001b[39m\u001b[38;5;124m\"\u001b[39m\n\u001b[1;32m-> 1661\u001b[0m \u001b[38;5;28mself\u001b[39m\u001b[38;5;241m.\u001b[39mhandles \u001b[38;5;241m=\u001b[39m \u001b[43mget_handle\u001b[49m\u001b[43m(\u001b[49m\n\u001b[0;32m   1662\u001b[0m \u001b[43m    \u001b[49m\u001b[43mf\u001b[49m\u001b[43m,\u001b[49m\n\u001b[0;32m   1663\u001b[0m \u001b[43m    \u001b[49m\u001b[43mmode\u001b[49m\u001b[43m,\u001b[49m\n\u001b[0;32m   1664\u001b[0m \u001b[43m    \u001b[49m\u001b[43mencoding\u001b[49m\u001b[38;5;241;43m=\u001b[39;49m\u001b[38;5;28;43mself\u001b[39;49m\u001b[38;5;241;43m.\u001b[39;49m\u001b[43moptions\u001b[49m\u001b[38;5;241;43m.\u001b[39;49m\u001b[43mget\u001b[49m\u001b[43m(\u001b[49m\u001b[38;5;124;43m\"\u001b[39;49m\u001b[38;5;124;43mencoding\u001b[39;49m\u001b[38;5;124;43m\"\u001b[39;49m\u001b[43m,\u001b[49m\u001b[43m \u001b[49m\u001b[38;5;28;43;01mNone\u001b[39;49;00m\u001b[43m)\u001b[49m\u001b[43m,\u001b[49m\n\u001b[0;32m   1665\u001b[0m \u001b[43m    \u001b[49m\u001b[43mcompression\u001b[49m\u001b[38;5;241;43m=\u001b[39;49m\u001b[38;5;28;43mself\u001b[39;49m\u001b[38;5;241;43m.\u001b[39;49m\u001b[43moptions\u001b[49m\u001b[38;5;241;43m.\u001b[39;49m\u001b[43mget\u001b[49m\u001b[43m(\u001b[49m\u001b[38;5;124;43m\"\u001b[39;49m\u001b[38;5;124;43mcompression\u001b[39;49m\u001b[38;5;124;43m\"\u001b[39;49m\u001b[43m,\u001b[49m\u001b[43m \u001b[49m\u001b[38;5;28;43;01mNone\u001b[39;49;00m\u001b[43m)\u001b[49m\u001b[43m,\u001b[49m\n\u001b[0;32m   1666\u001b[0m \u001b[43m    \u001b[49m\u001b[43mmemory_map\u001b[49m\u001b[38;5;241;43m=\u001b[39;49m\u001b[38;5;28;43mself\u001b[39;49m\u001b[38;5;241;43m.\u001b[39;49m\u001b[43moptions\u001b[49m\u001b[38;5;241;43m.\u001b[39;49m\u001b[43mget\u001b[49m\u001b[43m(\u001b[49m\u001b[38;5;124;43m\"\u001b[39;49m\u001b[38;5;124;43mmemory_map\u001b[39;49m\u001b[38;5;124;43m\"\u001b[39;49m\u001b[43m,\u001b[49m\u001b[43m \u001b[49m\u001b[38;5;28;43;01mFalse\u001b[39;49;00m\u001b[43m)\u001b[49m\u001b[43m,\u001b[49m\n\u001b[0;32m   1667\u001b[0m \u001b[43m    \u001b[49m\u001b[43mis_text\u001b[49m\u001b[38;5;241;43m=\u001b[39;49m\u001b[43mis_text\u001b[49m\u001b[43m,\u001b[49m\n\u001b[0;32m   1668\u001b[0m \u001b[43m    \u001b[49m\u001b[43merrors\u001b[49m\u001b[38;5;241;43m=\u001b[39;49m\u001b[38;5;28;43mself\u001b[39;49m\u001b[38;5;241;43m.\u001b[39;49m\u001b[43moptions\u001b[49m\u001b[38;5;241;43m.\u001b[39;49m\u001b[43mget\u001b[49m\u001b[43m(\u001b[49m\u001b[38;5;124;43m\"\u001b[39;49m\u001b[38;5;124;43mencoding_errors\u001b[39;49m\u001b[38;5;124;43m\"\u001b[39;49m\u001b[43m,\u001b[49m\u001b[43m \u001b[49m\u001b[38;5;124;43m\"\u001b[39;49m\u001b[38;5;124;43mstrict\u001b[39;49m\u001b[38;5;124;43m\"\u001b[39;49m\u001b[43m)\u001b[49m\u001b[43m,\u001b[49m\n\u001b[0;32m   1669\u001b[0m \u001b[43m    \u001b[49m\u001b[43mstorage_options\u001b[49m\u001b[38;5;241;43m=\u001b[39;49m\u001b[38;5;28;43mself\u001b[39;49m\u001b[38;5;241;43m.\u001b[39;49m\u001b[43moptions\u001b[49m\u001b[38;5;241;43m.\u001b[39;49m\u001b[43mget\u001b[49m\u001b[43m(\u001b[49m\u001b[38;5;124;43m\"\u001b[39;49m\u001b[38;5;124;43mstorage_options\u001b[39;49m\u001b[38;5;124;43m\"\u001b[39;49m\u001b[43m,\u001b[49m\u001b[43m \u001b[49m\u001b[38;5;28;43;01mNone\u001b[39;49;00m\u001b[43m)\u001b[49m\u001b[43m,\u001b[49m\n\u001b[0;32m   1670\u001b[0m \u001b[43m\u001b[49m\u001b[43m)\u001b[49m\n\u001b[0;32m   1671\u001b[0m \u001b[38;5;28;01massert\u001b[39;00m \u001b[38;5;28mself\u001b[39m\u001b[38;5;241m.\u001b[39mhandles \u001b[38;5;129;01mis\u001b[39;00m \u001b[38;5;129;01mnot\u001b[39;00m \u001b[38;5;28;01mNone\u001b[39;00m\n\u001b[0;32m   1672\u001b[0m f \u001b[38;5;241m=\u001b[39m \u001b[38;5;28mself\u001b[39m\u001b[38;5;241m.\u001b[39mhandles\u001b[38;5;241m.\u001b[39mhandle\n",
      "File \u001b[1;32m~\\anaconda3\\envs\\dev\\lib\\site-packages\\pandas\\io\\common.py:859\u001b[0m, in \u001b[0;36mget_handle\u001b[1;34m(path_or_buf, mode, encoding, compression, memory_map, is_text, errors, storage_options)\u001b[0m\n\u001b[0;32m    854\u001b[0m \u001b[38;5;28;01melif\u001b[39;00m \u001b[38;5;28misinstance\u001b[39m(handle, \u001b[38;5;28mstr\u001b[39m):\n\u001b[0;32m    855\u001b[0m     \u001b[38;5;66;03m# Check whether the filename is to be opened in binary mode.\u001b[39;00m\n\u001b[0;32m    856\u001b[0m     \u001b[38;5;66;03m# Binary mode does not support 'encoding' and 'newline'.\u001b[39;00m\n\u001b[0;32m    857\u001b[0m     \u001b[38;5;28;01mif\u001b[39;00m ioargs\u001b[38;5;241m.\u001b[39mencoding \u001b[38;5;129;01mand\u001b[39;00m \u001b[38;5;124m\"\u001b[39m\u001b[38;5;124mb\u001b[39m\u001b[38;5;124m\"\u001b[39m \u001b[38;5;129;01mnot\u001b[39;00m \u001b[38;5;129;01min\u001b[39;00m ioargs\u001b[38;5;241m.\u001b[39mmode:\n\u001b[0;32m    858\u001b[0m         \u001b[38;5;66;03m# Encoding\u001b[39;00m\n\u001b[1;32m--> 859\u001b[0m         handle \u001b[38;5;241m=\u001b[39m \u001b[38;5;28;43mopen\u001b[39;49m\u001b[43m(\u001b[49m\n\u001b[0;32m    860\u001b[0m \u001b[43m            \u001b[49m\u001b[43mhandle\u001b[49m\u001b[43m,\u001b[49m\n\u001b[0;32m    861\u001b[0m \u001b[43m            \u001b[49m\u001b[43mioargs\u001b[49m\u001b[38;5;241;43m.\u001b[39;49m\u001b[43mmode\u001b[49m\u001b[43m,\u001b[49m\n\u001b[0;32m    862\u001b[0m \u001b[43m            \u001b[49m\u001b[43mencoding\u001b[49m\u001b[38;5;241;43m=\u001b[39;49m\u001b[43mioargs\u001b[49m\u001b[38;5;241;43m.\u001b[39;49m\u001b[43mencoding\u001b[49m\u001b[43m,\u001b[49m\n\u001b[0;32m    863\u001b[0m \u001b[43m            \u001b[49m\u001b[43merrors\u001b[49m\u001b[38;5;241;43m=\u001b[39;49m\u001b[43merrors\u001b[49m\u001b[43m,\u001b[49m\n\u001b[0;32m    864\u001b[0m \u001b[43m            \u001b[49m\u001b[43mnewline\u001b[49m\u001b[38;5;241;43m=\u001b[39;49m\u001b[38;5;124;43m\"\u001b[39;49m\u001b[38;5;124;43m\"\u001b[39;49m\u001b[43m,\u001b[49m\n\u001b[0;32m    865\u001b[0m \u001b[43m        \u001b[49m\u001b[43m)\u001b[49m\n\u001b[0;32m    866\u001b[0m     \u001b[38;5;28;01melse\u001b[39;00m:\n\u001b[0;32m    867\u001b[0m         \u001b[38;5;66;03m# Binary mode\u001b[39;00m\n\u001b[0;32m    868\u001b[0m         handle \u001b[38;5;241m=\u001b[39m \u001b[38;5;28mopen\u001b[39m(handle, ioargs\u001b[38;5;241m.\u001b[39mmode)\n",
      "\u001b[1;31mFileNotFoundError\u001b[0m: [Errno 2] No such file or directory: '..\\\\2_resource\\\\flow_data\\\\11.user_flow_fy2023.csv'"
     ]
    }
   ],
   "source": [
    "csv_path_flow_2023 = Path(\"../2_resource/flow_data/11.user_flow_fy2023.csv\")\n",
    "csv_path_dist_flow = Path(\"../2_resource/flow_data/6.district_flow_estimate.csv\")\n",
    "csv_path_verif_flow = Path(\"../2_resource/flow_data/7.verification_flow.csv\")\n",
    "csv_path_suburb_flow = Path(\"../2_resource/flow_data/8.PI_Suburban_Flow.csv\")\n",
    "csv_path_RouteData = Path(\"../2_resource/flow_data/9.route_data.csv\")\n",
    "flow_2023 = pd.read_csv(csv_path_flow_2023, encoding=\"UTF-8\")  \n",
    "dist_flow = pd.read_csv(csv_path_dist_flow, encoding=\"UTF-8\")                  \n",
    "VerificationFlow_2023 = pd.read_csv(csv_path_verif_flow, encoding=\"UTF-8\")\n",
    "VerificationFlow_2023.round(2)"
   ]
  },
  {
   "cell_type": "code",
   "execution_count": null,
   "id": "1137d07b",
   "metadata": {},
   "outputs": [],
   "source": [
    "distric_flow_est =  pd.read_csv(csv_path_dist_flow, encoding=\"UTF-8\")\n",
    "distric_flow_est.head()"
   ]
  },
  {
   "cell_type": "markdown",
   "id": "eb26cb3b",
   "metadata": {},
   "source": [
    "# Inputs"
   ]
  },
  {
   "cell_type": "code",
   "execution_count": null,
   "id": "89ed1852",
   "metadata": {},
   "outputs": [],
   "source": [
    "rainfall = 42\n",
    "#1 ac-ft/min = \n",
    "gal_per_min = 325851.428571\n",
    "Drainage_coeff_for_imperv_area = 0.9\n",
    "#ratio of runoff to rainfall (Design Manual, Vol. 3, p. 3-D1-7), in./in.\n",
    "Drainage_Coeff_for_perv_Area = 0.3\n",
    "Wastewater_per_capita =110\n",
    "# mgd (From Section 3.5.2 Unit Wastwater Flow Factor)\n",
    "Theoretical_Qlf = 16.6\n",
    "Factor_for_High_Water_Use= Theoretical_Qlf/19.05\n",
    "# Infiltration (Table 6-1)= ((rainfall-40.84)*((50.32-40.84)/(52-64)))+52\n",
    "Infiltration = (((rainfall-40.84)*((50.32-40.84)/(52-64)))+52)\n",
    "Factor_infil= Infiltration/distric_flow_est[\"infil_MGD\"].sum()\n",
    "#  gallons/day from Tech Memo 18, p. 3-14\n",
    "# Rainfall 34.90 inches\tComparing to Table 6-1 'Projected District Wastewater Quantities'\n",
    "# Rainfall ft = 2.908333 ac-ft/min 325,851 gal/min"
   ]
  },
  {
   "cell_type": "code",
   "execution_count": null,
   "id": "4a7ea4b2",
   "metadata": {},
   "outputs": [],
   "source": [
    "print(\"Rain Fall 2023                 =\",rainfall)\n",
    "print(\"Infiltration based on rainfall = \",format(Infiltration, '.2f'))\n",
    "print(\"Infiltration Factor            = \",format(Factor_infil, '.2f') )\n",
    "print(\"Drainage_coeff_for_imperv_area =\",Drainage_coeff_for_imperv_area)\n",
    "print(\"Drainage_Coeff_for_perv_Area   = \", Drainage_Coeff_for_perv_Area)\n",
    "print(\"Wastewater_per_capita          = \",Wastewater_per_capita)\n",
    "print(\"Theoretical_Qlf                = \",Theoretical_Qlf)\n",
    "print(\"Factor for High Water Use      = \", format(Factor_for_High_Water_Use, '.2f'))"
   ]
  },
  {
   "cell_type": "markdown",
   "id": "a6975a4a",
   "metadata": {},
   "source": [
    "Calculate District Sewershed Flows incl Sanitary, Storm, High Water Users and Goundwater, finally Total district flow"
   ]
  },
  {
   "cell_type": "code",
   "execution_count": null,
   "id": "f712c522",
   "metadata": {},
   "outputs": [],
   "source": [
    "distric_flow_est['pro_infiltration_rate'] = distric_flow_est[\"infil_MGD\"]*Factor_infil\n",
    "distric_flow_est['storm_mgd'] = (distric_flow_est[\"impervious__acres\"]*Drainage_coeff_for_imperv_area*(rainfall/12)*gal_per_min\n",
    "                                + \n",
    "                                distric_flow_est[\"pervious_acres\"]*Drainage_Coeff_for_perv_Area* (rainfall/12)*gal_per_min)/365.242199/1000000\n",
    "distric_flow_est['storm_mgd'] =distric_flow_est['storm_mgd'] .fillna(0)\n",
    "\n",
    "distric_flow_est['sanitary_mgd'] = ((distric_flow_est[\"pop\"]+ distric_flow_est[\"emp\"]/3+ \n",
    "                                    distric_flow_est[\"visitor\"])*Wastewater_per_capita )/1000000\n",
    "distric_flow_est['high_user_mgd'] = distric_flow_est['high_user_mgd'].fillna(0)\n",
    "distric_flow_est['ground_water_pumpage'] = distric_flow_est['ground_water_pumpage'].fillna(0)\n",
    "# distric_flow_est['DataFrame Column'] = distric_flow_est['DataFrame Column'].fillna(0)\n",
    "                 \n",
    "distric_flow_est['total_annual_flow'] = (distric_flow_est[\"storm_mgd\"]+ distric_flow_est[\"sanitary_mgd\"] +\\\n",
    "                                    distric_flow_est[\"high_user_mgd\"]+distric_flow_est[\"ground_water_pumpage\"] +\\\n",
    "                                    distric_flow_est[\"pro_infiltration_rate\"]).round(2)\n",
    "\n",
    "district_flow = distric_flow_est[[\"flow_route\",\"sewersheds\",\"storm_mgd\",\"sanitary_mgd\",\"pro_infiltration_rate\",\n",
    "                  \"high_user_mgd\",\"ground_water_pumpage\",\"total_annual_flow\",\"Flow_length\",\"user\"]]\n",
    "\n",
    "district_flow = district_flow[[\"flow_route\",\"sewersheds\",\"total_annual_flow\",\"Flow_length\",\"user\"]]\n",
    "DC_est_annualflow = district_flow[\"total_annual_flow\"].sum()\n",
    "print(\"Estimated District Flow = \",DC_est_annualflow,\"mgd\")\n",
    "district_flow.head()"
   ]
  },
  {
   "cell_type": "code",
   "execution_count": null,
   "id": "b06e3c77",
   "metadata": {},
   "outputs": [],
   "source": [
    "print(\"Storm, mgd = \",distric_flow_est['storm_mgd'].sum().round(2))\n",
    "print(\"Sanitary, mgd = \",distric_flow_est['sanitary_mgd'].sum().round(2))\n",
    "print(\"Infiltration,mgd = \",distric_flow_est['pro_infiltration_rate'].sum().round(2))\n",
    "print(\"TotalAnnualFlow, mgd = \",distric_flow_est['total_annual_flow'].sum().round(2))"
   ]
  },
  {
   "cell_type": "code",
   "execution_count": null,
   "id": "87141fc8",
   "metadata": {},
   "outputs": [],
   "source": [
    "district_flow_route9 = district_flow[\n",
    "                                    (district_flow[\"flow_route\"] == 1) \n",
    "                                   |\n",
    "                                    (district_flow[\"flow_route\"] == 2 )\n",
    "                                    ]\n",
    "district_flow_route9.rename(columns={'sewersheds': 'Input_Name'}, inplace=True)\n",
    "district_flow_route9.rename(columns={'total_annual_flow': 'Flow'}, inplace=True)\n",
    "\n",
    "district_flow_route9"
   ]
  },
  {
   "cell_type": "markdown",
   "id": "b9813bfe",
   "metadata": {},
   "source": [
    "# User Flow Reported Fiscal Year  2023 -   District"
   ]
  },
  {
   "cell_type": "code",
   "execution_count": null,
   "id": "f6e3b8f8",
   "metadata": {},
   "outputs": [],
   "source": [
    "district_flow_route9['route'] = 9\n",
    "Route_9_Flow = district_flow_route9[[\"user\",\"route\",\"Input_Name\",\"Flow\",\"Flow_length\"]]\n",
    "Route_9_Flow"
   ]
  },
  {
   "cell_type": "markdown",
   "id": "170100bc",
   "metadata": {},
   "source": [
    "Flow Share calculation  Inside the District Boundary"
   ]
  },
  {
   "cell_type": "markdown",
   "id": "d94a9c0d",
   "metadata": {},
   "source": [
    "# WSSC Billing Flow Report for Fiscal Year 2023"
   ]
  },
  {
   "cell_type": "code",
   "execution_count": null,
   "id": "5eb2492e",
   "metadata": {},
   "outputs": [],
   "source": [
    "flow_2023\n",
    "flow_2023.to_csv(\"../4_output_and_visualization/flow_2023.csv\")\n",
    "# Summary_Flow_Share.to_csv(\"../4_output_and_visualization/summary_flow_share.csv\")"
   ]
  },
  {
   "cell_type": "code",
   "execution_count": null,
   "id": "bb33583e",
   "metadata": {},
   "outputs": [],
   "source": [
    "flow_2023_wssc = flow_2023[flow_2023[\"user_name\"]=='Montgomery']\n",
    "flow_2023_wssc_flow = flow_2023_wssc.groupby([\"input_name\"])[[\"monthly_flow\"]].sum()/365.25\n",
    "print(\"WSSC Billing Total Flow = \",flow_2023_wssc_flow.sum().map(\"{:,.2f}\".format))\n",
    "flow_2023_wssc_flow.round(2).head().reset_index()"
   ]
  },
  {
   "cell_type": "markdown",
   "id": "a807006d",
   "metadata": {},
   "source": [
    "# Fairfax Billing Flow Report for Fiscal Year 2023"
   ]
  },
  {
   "cell_type": "code",
   "execution_count": null,
   "id": "d363ab1b",
   "metadata": {},
   "outputs": [],
   "source": [
    "flow_2023_fairfax = flow_2023[flow_2023[\"user_name\"]=='fairfax']\n",
    "flow_2023_fairfax_flow = flow_2023_fairfax.groupby([\"input_name\"])[[\"monthly_flow\"]].sum()/365.25\n",
    "print(\"Fairfax Billing Total Flow = \",flow_2023_fairfax_flow.sum().map(\"{:,.2f}\".format))\n",
    "flow_2023_fairfax_flow.round(2).reset_index()"
   ]
  },
  {
   "cell_type": "markdown",
   "id": "1200d7bc",
   "metadata": {},
   "source": [
    "# Loudoun Billing Flow Report for Fiscal Year 2023"
   ]
  },
  {
   "cell_type": "code",
   "execution_count": null,
   "id": "725bc6ec",
   "metadata": {},
   "outputs": [],
   "source": [
    "flow_2023_Loudoun = flow_2023[flow_2023[\"user_name\"]=='loudoun']\n",
    "flow_2023_Loudoun_flow = flow_2023_Loudoun.groupby([\"input_name\"])[[\"monthly_flow\"]].sum()/365.25\n",
    "print(\"Loudoun Billing Total Flow = \",flow_2023_Loudoun_flow.sum().map(\"{:,.2f}\".format),\"mgd\")\n",
    "flow_2023_Loudoun_flow.round(2).head().reset_index()"
   ]
  },
  {
   "cell_type": "markdown",
   "id": "6f809fcf",
   "metadata": {},
   "source": [
    "# Vienna Billing Flow Report for Fiscal Year 2023"
   ]
  },
  {
   "cell_type": "code",
   "execution_count": null,
   "id": "cbdb598d",
   "metadata": {},
   "outputs": [],
   "source": [
    "flow_2023_Vienna = flow_2023[flow_2023[\"user_name\"]=='vienna']\n",
    "flow_2023_Vienna_flow = flow_2023_Vienna.groupby([\"input_name\"])[[\"monthly_flow\"]].sum()/365.25\n",
    "print(\"Town of Vienna Billing Total Flow = \",flow_2023_Vienna_flow.sum().map(\"{:,.2f}\".format))\n",
    "flow_2023_Vienna_flow.round(2).reset_index()"
   ]
  },
  {
   "cell_type": "markdown",
   "id": "2a74f342",
   "metadata": {},
   "source": [
    "# Dulles International Airport Billing Flow Report for Fiscal Year 2023"
   ]
  },
  {
   "cell_type": "code",
   "execution_count": null,
   "id": "69b917c9-501e-4ecc-86aa-4b32376871b1",
   "metadata": {},
   "outputs": [],
   "source": [
    "flow_2023_Dulles = flow_2023[flow_2023[\"user_name\"]=='dulles']\n",
    "flow_2023_Dulles_flow = flow_2023_Dulles.groupby([\"input_name\"])[[\"monthly_flow\"]].sum()/365.25\n",
    "print(\"Dulles Billing Total Flow = \",flow_2023_Dulles_flow.sum().map(\"{:,.2f}\".format))\n",
    "\n",
    "flow_2023_Dulles_flow.round(2).reset_index()"
   ]
  },
  {
   "cell_type": "markdown",
   "id": "3fb22679",
   "metadata": {},
   "source": [
    "# Suburban Jurisdiction Flow per input location & flow route length"
   ]
  },
  {
   "cell_type": "code",
   "execution_count": null,
   "id": "5e7bbd93",
   "metadata": {},
   "outputs": [],
   "source": [
    "PI_Suburban_Flow = pd.read_csv(csv_path_suburb_flow, encoding=\"UTF-8\")\n",
    "PI_Suburban_Flow= PI_Suburban_Flow[[\"user\",\"route\",\"Input_Name\",\"Flow\",\"Flow_length\"]]\n",
    "\n",
    "PI_Suburban_Flow.round(2).head()\n"
   ]
  },
  {
   "cell_type": "markdown",
   "id": "f2851150",
   "metadata": {},
   "source": [
    "# Cost share zone length"
   ]
  },
  {
   "cell_type": "code",
   "execution_count": null,
   "id": "ff068751",
   "metadata": {},
   "outputs": [],
   "source": [
    "Route_Data = pd.read_csv(csv_path_RouteData, encoding=\"UTF-8\")\n",
    "Route_Data.round(2)"
   ]
  },
  {
   "cell_type": "code",
   "execution_count": null,
   "id": "0cdc8012",
   "metadata": {},
   "outputs": [],
   "source": [
    "output_Length = Route_Data[(Route_Data[\"route\"]==2)][\"route_length\"]\n",
    "output_Length"
   ]
  },
  {
   "cell_type": "markdown",
   "id": "e3c61cb8",
   "metadata": {},
   "source": [
    "# Flow Share Calculation per Flow Route"
   ]
  },
  {
   "cell_type": "markdown",
   "id": "08babb18",
   "metadata": {},
   "source": [
    "# Route -1 Dulles Aiport Area"
   ]
  },
  {
   "cell_type": "code",
   "execution_count": null,
   "id": "db84dccb",
   "metadata": {},
   "outputs": [],
   "source": [
    "# Route 1 Flow and Flow X Length Calculation\n",
    "Route_1_Flow = PI_Suburban_Flow[(PI_Suburban_Flow[\"route\"] == 1) ]\n",
    "Route_1_Flow['Flow_X_length'] = \"\"\n",
    "\n",
    "Route_1_Flow.Flow_length  = (Route_1_Flow.Flow_length ).astype(\"float\")\n",
    "for rows in Route_1_Flow:\n",
    "    Route_1_Flow[\"Flow_X_length\"] = Route_1_Flow[\"Flow\"]*Route_1_Flow[\"Flow_length\"]\n",
    "Route_1_Flow"
   ]
  },
  {
   "cell_type": "code",
   "execution_count": null,
   "id": "09e2fbc1",
   "metadata": {},
   "outputs": [],
   "source": [
    "# Route Flow Share Calculation\n",
    "Flow_length_sum = Route_1_Flow[\"Flow_X_length\"].sum()\n",
    "Flow_length_sum\n",
    "Route_1_Flow = Route_1_Flow.groupby([\"user\"]).sum([\"Flow_X_length\"])\n",
    "Route_1_Flow = pd.DataFrame(Route_1_Flow)\n",
    "Route_1_Flow \n",
    "Route_1_Flow['%_Share'] = \"\"\n",
    "Route_1_Flow [\"%_Share\"] = (Route_1_Flow.groupby([\"user\"]).sum()[\"Flow_X_length\"]/Flow_length_sum)*100\n",
    "# flow_user_sum = pd.DataFrame(flow_user_sum )\n",
    "Route_1_Flow[\"route\"] = 1\n",
    "Route_1_Flow.reset_index()\n",
    "# Route_1_Flow.info()"
   ]
  },
  {
   "cell_type": "code",
   "execution_count": null,
   "id": "97254332",
   "metadata": {},
   "outputs": [],
   "source": [
    "output_Length = Route_Data.loc[(Route_Data[\"route\"]==2, \"route_length\")][1]\n",
    "output_Length"
   ]
  },
  {
   "cell_type": "code",
   "execution_count": null,
   "id": "50fa2c99",
   "metadata": {},
   "outputs": [],
   "source": [
    "# Route 1 Flow Output - Input to Route 2 \n",
    "Route_1_Flow_transfer =   Route_1_Flow.groupby([\"user\"]).sum() \n",
    "Route_1_Flow_transfer = Route_1_Flow_transfer [[\"Flow\"]]\n",
    "Route_1_Flow_transfer = Route_1_Flow_transfer.reset_index()\n",
    "# output_Length = Route_Data.loc[(Route_Data[\"route\"]==2, \"route_length\")][1]\n",
    "output_Length = Route_Data.loc[(Route_Data[\"route\"]==2)].reset_index()['route_length'][0]\n",
    "# Route_1_Flow_transfer[\"Flow_length\"] = 45575\n",
    "Route_1_Flow_transfer[\"Flow_length\"] = output_Length \n",
    "Route_1_Flow_transfer\n"
   ]
  },
  {
   "cell_type": "markdown",
   "id": "bcccf02a",
   "metadata": {},
   "source": [
    "# Route -2 Loudoun Area"
   ]
  },
  {
   "cell_type": "code",
   "execution_count": null,
   "id": "3db638ab",
   "metadata": {},
   "outputs": [],
   "source": [
    "output_Length = Route_Data.loc[(Route_Data[\"route\"]==3)].reset_index()['route_length'][0]\n",
    "output_Length"
   ]
  },
  {
   "cell_type": "code",
   "execution_count": null,
   "id": "d0fae05d",
   "metadata": {},
   "outputs": [],
   "source": [
    "Route_2_Flow = PI_Suburban_Flow[(PI_Suburban_Flow[\"route\"] == 2) ]\n",
    "Route_2_Flow = pd.concat([Route_2_Flow , Route_1_Flow_transfer ], ignore_index=True)\n",
    "Route_2_Flow['Flow_X_length'] = \"\"\n",
    "Route_2_Flow['%_Share'] = \"\"\n",
    "Route_2_Flow.Flow_length  = (Route_2_Flow.Flow_length ).astype(\"float\")\n",
    "\n",
    "for rows in Route_1_Flow:\n",
    "    Route_2_Flow[\"Flow_X_length\"] = Route_2_Flow[\"Flow\"]*Route_2_Flow[\"Flow_length\"]\n",
    "\n",
    "Flow_length_sum = Route_2_Flow[\"Flow_X_length\"].sum()\n",
    "Flow_length_sum\n",
    "Route_2_Flow = Route_2_Flow.groupby([\"user\"]).sum([\"Flow_X_length\"])\n",
    "Route_2_Flow = pd.DataFrame(Route_2_Flow)\n",
    "Route_2_Flow \n",
    "Route_2_Flow [\"%_Share\"] = (Route_2_Flow.groupby([\"user\"]).sum()[\"Flow_X_length\"]/Flow_length_sum)*100\n",
    "Route_2_Flow[\"route\"] = 2\n",
    "\n",
    "\n",
    "Route_2_Flow_transfer =   Route_2_Flow.groupby([\"user\"]).sum() \n",
    "Route_2_Flow_transfer = Route_2_Flow_transfer [[\"Flow\"]]\n",
    "Route_2_Flow_transfer = Route_2_Flow_transfer.reset_index()\n",
    "output_Length = Route_Data.loc[(Route_Data[\"route\"]==3)].reset_index()['route_length'][0]\n",
    "Route_2_Flow_transfer[\"Flow_length\"] = output_Length\n",
    "\n",
    "# Route_2_Flow.set_index\n",
    "Route_2_Flow.round(2)\n",
    "# Route_2_Flow.info()\n",
    "Route_2_Flow_transfer "
   ]
  },
  {
   "cell_type": "markdown",
   "id": "dc646999",
   "metadata": {},
   "source": [
    "# Route -3 Sugarland Run"
   ]
  },
  {
   "cell_type": "code",
   "execution_count": null,
   "id": "bf2618db",
   "metadata": {},
   "outputs": [],
   "source": [
    "def determine_route_flow(route_num=1, ):\n",
    "    Route_3_Flow = PI_Suburban_Flow[(PI_Suburban_Flow[\"route\"] == route_num) ]\n",
    "\n",
    "    Route_3_Flow['Flow_X_length'] = \"\"\n",
    "    Route_3_Flow['%_Share'] = \"\"\n",
    "    Route_3_Flow.Flow_length  = (Route_3_Flow.Flow_length ).astype(\"float\")\n",
    "    Route_3_Flow\n",
    "    for rows in Route_3_Flow:\n",
    "        Route_3_Flow[\"Flow_X_length\"] = Route_3_Flow[\"Flow\"]*Route_3_Flow[\"Flow_length\"]\n",
    "\n",
    "    Flow_length_sum = Route_3_Flow[\"Flow_X_length\"].sum()\n",
    "    Flow_length_sum\n",
    "    Route_3_Flow = Route_3_Flow.groupby([\"user\"]).sum([\"Flow_X_length\"])\n",
    "    Route_3_Flow = pd.DataFrame(Route_3_Flow)\n",
    "    Route_3_Flow \n",
    "    Route_3_Flow [\"%_Share\"] = (Route_3_Flow.groupby([\"user\"]).sum()[\"Flow_X_length\"]/Flow_length_sum)*100\n",
    "    Route_3_Flow[\"route\"] = route_num\n",
    "\n",
    "\n",
    "    Route_3_Flow_transfer =   Route_3_Flow.groupby([\"user\"]).sum() \n",
    "    Route_3_Flow_transfer = Route_3_Flow_transfer [[\"Flow\"]]\n",
    "    output_Length = Route_Data.loc[(Route_Data[\"route\"]==(route_num + 1))].reset_index()['route_length'][0]\n",
    "\n",
    "    Route_3_Flow_transfer[\"Flow_length\"] = output_Length\n",
    "    return Route_3_Flow.round(2)\n",
    "    # Route_3_Flow.info()"
   ]
  },
  {
   "cell_type": "code",
   "execution_count": null,
   "id": "13743f59",
   "metadata": {
    "scrolled": true
   },
   "outputs": [],
   "source": [
    "route_3 = determine_route_flow(3)\n",
    "route_3"
   ]
  },
  {
   "cell_type": "code",
   "execution_count": null,
   "id": "773d9877",
   "metadata": {},
   "outputs": [],
   "source": [
    "determine_route_flow(4)"
   ]
  },
  {
   "cell_type": "code",
   "execution_count": null,
   "id": "509f6636",
   "metadata": {},
   "outputs": [],
   "source": [
    "Route_3_Flow = PI_Suburban_Flow[(PI_Suburban_Flow[\"route\"] == 3) ]\n",
    "\n",
    "Route_3_Flow['Flow_X_length'] = \"\"\n",
    "Route_3_Flow['%_Share'] = \"\"\n",
    "Route_3_Flow.Flow_length  = (Route_3_Flow.Flow_length ).astype(\"float\")\n",
    "Route_3_Flow\n",
    "for rows in Route_3_Flow:\n",
    "    Route_3_Flow[\"Flow_X_length\"] = Route_3_Flow[\"Flow\"]*Route_3_Flow[\"Flow_length\"]\n",
    "\n",
    "Flow_length_sum = Route_3_Flow[\"Flow_X_length\"].sum()\n",
    "Flow_length_sum\n",
    "Route_3_Flow = Route_3_Flow.groupby([\"user\"]).sum([\"Flow_X_length\"])\n",
    "Route_3_Flow = pd.DataFrame(Route_3_Flow)\n",
    "Route_3_Flow \n",
    "Route_3_Flow [\"%_Share\"] = (Route_3_Flow.groupby([\"user\"]).sum()[\"Flow_X_length\"]/Flow_length_sum)*100\n",
    "Route_3_Flow[\"route\"] = 3\n",
    "\n",
    "\n",
    "Route_3_Flow_transfer =   Route_3_Flow.groupby([\"user\"]).sum() \n",
    "Route_3_Flow_transfer = Route_3_Flow_transfer [[\"Flow\"]]\n",
    "output_Length = Route_Data.loc[(Route_Data[\"route\"]==4)].reset_index()['route_length'][0]\n",
    "\n",
    "Route_3_Flow_transfer[\"Flow_length\"] = output_Length\n",
    "Route_3_Flow.round(2)\n",
    "# Route_3_Flow.info()"
   ]
  },
  {
   "cell_type": "markdown",
   "id": "4c7d73aa",
   "metadata": {},
   "source": [
    "# Route -4 Seneca Park Area"
   ]
  },
  {
   "cell_type": "code",
   "execution_count": null,
   "id": "fcb7c340",
   "metadata": {},
   "outputs": [],
   "source": [
    "Route_4_Flow = PI_Suburban_Flow[(PI_Suburban_Flow[\"route\"] == 4) ]\n",
    "Route_4_Flow = pd.concat([Route_4_Flow , Route_3_Flow_transfer, Route_2_Flow_transfer], ignore_index=False)\n",
    "Route_4_Flow['Flow_X_length'] = \"\"\n",
    "Route_4_Flow['%_Share'] = \"\"\n",
    "\n",
    "Route_4_Flow.Flow_length  = (Route_4_Flow.Flow_length ).astype(\"float\")\n",
    "\n",
    "for rows in Route_4_Flow:\n",
    "    Route_4_Flow[\"Flow_X_length\"] = Route_4_Flow[\"Flow\"]*Route_4_Flow[\"Flow_length\"]\n",
    "\n",
    "Flow_length_sum = Route_4_Flow[\"Flow_X_length\"].sum()\n",
    "Flow_length_sum\n",
    "Route_4_Flow = Route_4_Flow.groupby([\"user\"]).sum([\"Flow_X_length\"])\n",
    "Route_4_Flow = pd.DataFrame(Route_4_Flow)\n",
    "Route_4_Flow \n",
    "Route_4_Flow [\"%_Share\"] = (Route_4_Flow.groupby([\"user\"]).sum()[\"Flow_X_length\"]/Flow_length_sum)*100\n",
    "Route_4_Flow[\"route\"] = 4\n",
    "\n",
    "\n",
    "Route_4_Flow_transfer =   Route_4_Flow.groupby([\"user\"]).sum() \n",
    "Route_4_Flow_transfer = Route_4_Flow_transfer [[\"Flow\"]]\n",
    "Route_4_Flow_transfer = Route_4_Flow_transfer.reset_index()\n",
    "output_Length = Route_Data.loc[(Route_Data[\"route\"]==5)].reset_index()['route_length'][0]\n",
    "# Route_4_Flow_transfer[\"Flow_length\"] = 18894\n",
    "Route_4_Flow.set_index\n",
    "Route_4_Flow.round(2)\n",
    "# Route_4_Flow_transfer "
   ]
  },
  {
   "cell_type": "markdown",
   "id": "73c867a7",
   "metadata": {},
   "source": [
    "# Route -5 Montgomery County (WSSC)"
   ]
  },
  {
   "cell_type": "code",
   "execution_count": null,
   "id": "11918f30",
   "metadata": {},
   "outputs": [],
   "source": [
    "Route_5_Flow = PI_Suburban_Flow[(PI_Suburban_Flow[\"route\"] == 5) ]\n",
    "\n",
    "Route_5_Flow['Flow_X_length'] = \"\"\n",
    "Route_5_Flow['%_Share'] = \"\"\n",
    "Route_5_Flow.Flow_length  = (Route_5_Flow.Flow_length ).astype(\"float\")\n",
    "\n",
    "for rows in Route_5_Flow:\n",
    "    Route_5_Flow[\"Flow_X_length\"] = Route_5_Flow[\"Flow\"]*Route_5_Flow[\"Flow_length\"]\n",
    "\n",
    "Flow_length_sum = Route_5_Flow[\"Flow_X_length\"].sum()\n",
    "Flow_length_sum\n",
    "Route_5_Flow = Route_5_Flow.groupby([\"user\"]).sum([\"Flow_X_length\"])\n",
    "Route_5_Flow = pd.DataFrame(Route_5_Flow)\n",
    "Route_5_Flow \n",
    "Route_5_Flow [\"%_Share\"] = (Route_5_Flow.groupby([\"user\"]).sum()[\"Flow_X_length\"]/Flow_length_sum)*100\n",
    "Route_5_Flow[\"route\"] = 5\n",
    "\n",
    "\n",
    "Route_5_Flow_transfer =   Route_5_Flow.groupby([\"user\"]).sum() \n",
    "Route_5_Flow_transfer = Route_5_Flow_transfer [[\"Flow\"]]\n",
    "Route_5_Flow_transfer = Route_5_Flow_transfer.reset_index()\n",
    "output_Length = Route_Data.loc[(Route_Data[\"route\"]==6)].reset_index()['route_length'][0]\n",
    "Route_5_Flow_transfer[\"Flow_length\"] = output_Length\n",
    "Route_5_Flow.set_index\n",
    "Route_5_Flow\n",
    "# Route_5_Flow_transfer "
   ]
  },
  {
   "cell_type": "markdown",
   "id": "197183bd",
   "metadata": {},
   "source": [
    "# Route -6 Great Falls VA"
   ]
  },
  {
   "cell_type": "code",
   "execution_count": null,
   "id": "ed7f08a6",
   "metadata": {},
   "outputs": [],
   "source": [
    "Route_6_Flow = PI_Suburban_Flow[(PI_Suburban_Flow[\"route\"] == 6) ]\n",
    "Route_6_Flow = pd.concat([Route_6_Flow , Route_4_Flow_transfer, Route_5_Flow_transfer], ignore_index=True)\n",
    "Route_6_Flow['Flow_X_length'] = \"\"\n",
    "Route_6_Flow['%_Share'] = \"\"\n",
    "Route_6_Flow.Flow_length  = (Route_6_Flow.Flow_length ).astype(\"float\")\n",
    "\n",
    "for rows in Route_6_Flow:\n",
    "    Route_6_Flow[\"Flow_X_length\"] = Route_6_Flow[\"Flow\"]*Route_6_Flow[\"Flow_length\"]\n",
    "\n",
    "Flow_length_sum = Route_6_Flow[\"Flow_X_length\"].sum()\n",
    "Flow_length_sum\n",
    "Route_6_Flow = Route_6_Flow.groupby([\"user\"]).sum([\"Flow_X_length\"])\n",
    "Route_6_Flow = pd.DataFrame(Route_6_Flow)\n",
    "Route_6_Flow \n",
    "Route_6_Flow [\"%_Share\"] = (Route_6_Flow.groupby([\"user\"]).sum()[\"Flow_X_length\"]/Flow_length_sum)*100\n",
    "Route_6_Flow[\"route\"] = 6\n",
    "\n",
    "\n",
    "Route_6_Flow_transfer =   Route_6_Flow.groupby([\"user\"]).sum() \n",
    "Route_6_Flow_transfer = Route_6_Flow_transfer [[\"Flow\"]]\n",
    "Route_6_Flow_transfer = Route_6_Flow_transfer.reset_index()\n",
    "output_Length = Route_Data.loc[(Route_Data[\"route\"]==7)].reset_index()['route_length'][0]\n",
    "Route_6_Flow_transfer[\"Flow_length\"] = output_Length\n",
    "Route_6_Flow.round(2)\n",
    "# Route_6_Flow_transfer"
   ]
  },
  {
   "cell_type": "markdown",
   "id": "1abbfd6f",
   "metadata": {},
   "source": [
    "# Route -7 Difficult Run (Town of Vienna)"
   ]
  },
  {
   "cell_type": "code",
   "execution_count": null,
   "id": "035772a9",
   "metadata": {},
   "outputs": [],
   "source": [
    "Route_7_Flow = PI_Suburban_Flow[(PI_Suburban_Flow[\"route\"] == 7) ]\n",
    "\n",
    "Route_7_Flow['Flow_X_length'] = \"\"\n",
    "Route_7_Flow['%_Share'] = \"\"\n",
    "# Route_7_Flow.Flow_length  = (Route_5_Flow.Flow_length ).astype(\"float\")\n",
    "\n",
    "for rows in Route_7_Flow:\n",
    "    Route_7_Flow[\"Flow_X_length\"] = Route_7_Flow[\"Flow\"]*Route_7_Flow[\"Flow_length\"]\n",
    "Route_7_Flow\n",
    "Flow_length_sum = Route_7_Flow[\"Flow_X_length\"].sum()\n",
    "Flow_length_sum\n",
    "Route_7_Flow = Route_7_Flow.groupby([\"user\"]).sum([\"Flow_X_length\"])\n",
    "Route_7_Flow = pd.DataFrame(Route_7_Flow)\n",
    "\n",
    "Route_7_Flow [\"%_Share\"] = (Route_7_Flow.groupby([\"user\"]).sum()[\"Flow_X_length\"]/Flow_length_sum)*100\n",
    "Route_7_Flow[\"route\"] = 7\n",
    "Route_7_Flow \n",
    "\n",
    "Route_7_Flow_transfer =   Route_7_Flow.groupby([\"user\"]).sum() \n",
    "Route_7_Flow_transfer = Route_7_Flow_transfer [[\"Flow\"]]\n",
    "Route_7_Flow_transfer = Route_7_Flow_transfer.reset_index()\n",
    "output_Length = Route_Data.loc[(Route_Data[\"route\"]==8)].reset_index()['route_length'][0]\n",
    "Route_7_Flow_transfer[\"Flow_length\"] = output_Length\n",
    "Route_7_Flow.round(2)\n",
    "# Route_7_Flow_transfer"
   ]
  },
  {
   "cell_type": "markdown",
   "id": "3f2fd17c",
   "metadata": {},
   "source": [
    "# Route -8 Clara Barton Parkway, MD"
   ]
  },
  {
   "cell_type": "code",
   "execution_count": null,
   "id": "d6fb5d13",
   "metadata": {},
   "outputs": [],
   "source": [
    "Route_8_Flow = PI_Suburban_Flow[(PI_Suburban_Flow[\"route\"] == 8) ]\n",
    "Route_8_Flow = pd.concat([Route_8_Flow , Route_7_Flow_transfer, Route_6_Flow_transfer], ignore_index=True)\n",
    "Route_8_Flow['Flow_X_length'] = \"\"\n",
    "Route_8_Flow['%_Share'] = \"\"\n",
    "Route_8_Flow.Flow_length  = (Route_8_Flow.Flow_length ).astype(\"float\")\n",
    "\n",
    "for rows in Route_8_Flow:\n",
    "    Route_8_Flow[\"Flow_X_length\"] = Route_8_Flow[\"Flow\"]*Route_8_Flow[\"Flow_length\"]\n",
    "\n",
    "Flow_length_sum = Route_8_Flow[\"Flow_X_length\"].sum()\n",
    "Flow_length_sum\n",
    "Route_8_Flow = Route_8_Flow.groupby([\"user\"]).sum([\"Flow_X_length\"])\n",
    "Route_8_Flow = pd.DataFrame(Route_8_Flow)\n",
    "Route_8_Flow \n",
    "Route_8_Flow [\"%_Share\"] = (Route_8_Flow.groupby([\"user\"]).sum()[\"Flow_X_length\"]/Flow_length_sum)*100\n",
    "Route_8_Flow[\"route\"] = 8\n",
    "\n",
    "\n",
    "Route_8_Flow_transfer =   Route_8_Flow.groupby([\"user\"]).sum() \n",
    "Route_8_Flow_transfer = Route_8_Flow_transfer [[\"Flow\"]]\n",
    "Route_8_Flow_transfer = Route_8_Flow_transfer.reset_index()\n",
    "output_Length = Route_Data.loc[(Route_Data[\"route\"]==9)].reset_index()['route_length'][0]\n",
    "Route_8_Flow_transfer[\"Flow_length\"] = output_Length\n",
    "Route_8_Flow.round(2).reset_index()\n",
    "# Route_8_Flow_transfer\n"
   ]
  },
  {
   "cell_type": "markdown",
   "id": "f4a2d3b3",
   "metadata": {},
   "source": [
    "# Route -9 District of Columbia"
   ]
  },
  {
   "cell_type": "code",
   "execution_count": null,
   "id": "04ab4988",
   "metadata": {},
   "outputs": [],
   "source": [
    "Route_9_Flow"
   ]
  },
  {
   "cell_type": "code",
   "execution_count": null,
   "id": "05ba4c2b",
   "metadata": {},
   "outputs": [],
   "source": [
    "Route_8_Flow_transfer"
   ]
  },
  {
   "cell_type": "code",
   "execution_count": null,
   "id": "4627a62f",
   "metadata": {},
   "outputs": [],
   "source": [
    "# Route_9_Flow = PI_Suburban_Flow[(PI_Suburban_Flow[\"route\"] == 9) ]\n",
    "Route_9_Flow = pd.concat([Route_9_Flow , Route_8_Flow_transfer], ignore_index=True)\n",
    "Route_9_Flow['Flow_X_length'] = \"\"\n",
    "Route_9_Flow['%_Share'] = \"\"\n",
    "Route_9_Flow.Flow_length  = (Route_9_Flow.Flow_length ).astype(\"float\")\n",
    "Route_9_Flow.reset_index()\n"
   ]
  },
  {
   "cell_type": "code",
   "execution_count": null,
   "id": "a984160e",
   "metadata": {},
   "outputs": [],
   "source": [
    "for rows in Route_9_Flow:\n",
    "    Route_9_Flow[\"Flow_X_length\"] = Route_9_Flow[\"Flow\"]*Route_9_Flow[\"Flow_length\"]\n",
    "Route_9_Flow\n",
    "Flow_length_sum = Route_9_Flow[\"Flow_X_length\"].sum()\n",
    "Flow_length_sum\n",
    "Route_9_Flow = Route_9_Flow.groupby([\"user\"]).sum([\"Flow_X_length\"])\n",
    "Route_9_Flow = pd.DataFrame(Route_9_Flow)\n",
    "# Route_9_Flow \n",
    "Route_9_Flow [\"%_Share\"] = (Route_9_Flow.groupby([\"user\"]).sum()[\"Flow_X_length\"]/Flow_length_sum)*100\n",
    "Route_9_Flow[\"route\"] = 9\n",
    "\n",
    "Route_9_Flow_transfer =   Route_9_Flow.groupby([\"user\"]).sum() \n",
    "Route_9_Flow_transfer = Route_9_Flow_transfer [[\"Flow\"]]\n",
    "Route_9_Flow_transfer = Route_9_Flow_transfer.reset_index()\n",
    "# Route_9_Flow_transfer[\"Flow_length\"] =Route_Data[\"route_length\"][(Route_Data[\"route\"]==9)]\n",
    "\n",
    "Route_9_Flow.round(2).reset_index()"
   ]
  },
  {
   "cell_type": "code",
   "execution_count": null,
   "id": "2245d35a",
   "metadata": {},
   "outputs": [],
   "source": [
    "Summary_Flow_Share = pd.concat([Route_9_Flow, Route_8_Flow,  Route_7_Flow, Route_6_Flow, Route_5_Flow, Route_4_Flow, Route_3_Flow, Route_2_Flow, Route_1_Flow], ignore_index=False)\n",
    "Summary_Flow_Share.round(2).reset_index()\n",
    "Summary_Flow_Share = Summary_Flow_Share.groupby([\"user\"]).value_counts().round(2)\n",
    "Summary_Flow_Share = pd.DataFrame(Summary_Flow_Share).round(2)\n",
    "Summary_Flow_Share = Summary_Flow_Share.drop(columns='count')\n",
    "Summary_Flow_Share"
   ]
  },
  {
   "cell_type": "code",
   "execution_count": null,
   "id": "70191381",
   "metadata": {},
   "outputs": [],
   "source": [
    "Summary_Flow_Share.to_csv(\"../4_output_and_visualization/summary_flow_share.csv\")"
   ]
  },
  {
   "cell_type": "code",
   "execution_count": null,
   "id": "a744fe45",
   "metadata": {},
   "outputs": [],
   "source": []
  }
 ],
 "metadata": {
  "kernelspec": {
   "display_name": "Python 3 (ipykernel)",
   "language": "python",
   "name": "python3"
  },
  "language_info": {
   "codemirror_mode": {
    "name": "ipython",
    "version": 3
   },
   "file_extension": ".py",
   "mimetype": "text/x-python",
   "name": "python",
   "nbconvert_exporter": "python",
   "pygments_lexer": "ipython3",
   "version": "3.10.13"
  }
 },
 "nbformat": 4,
 "nbformat_minor": 5
}
